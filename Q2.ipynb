{
  "cells": [
    {
      "cell_type": "markdown",
      "metadata": {
        "id": "ChC3RF8meAlK"
      },
      "source": [
        "<h1 align=\"center\">Introduction to Machine Learning - 25737-2</h1>\n",
        "<h4 align=\"center\">Dr. R. Amiri</h4>\n",
        "<h4 align=\"center\">Sharif University of Technology, Spring 2024</h4>\n",
        "\n",
        "\n",
        "**<font color='red'>Plagiarism is strongly prohibited!</font>**\n",
        "\n",
        "\n",
        "**Student Name**: Amirali Pourdehghan\n",
        "\n",
        "**Student ID**: 400107553\n",
        "\n",
        "\n",
        "\n"
      ]
    },
    {
      "cell_type": "markdown",
      "metadata": {
        "id": "IraiR0SbeDi_"
      },
      "source": [
        "# Logistic Regression"
      ]
    },
    {
      "cell_type": "markdown",
      "metadata": {
        "id": "nRQjwWC3eDnc"
      },
      "source": [
        "**Task:** Implement your own Logistic Regression model, and test it on the given dataset of Logistic_question.csv!"
      ]
    },
    {
      "cell_type": "code",
      "source": [
        "## Write your code here ##\n",
        "from google.colab import drive\n",
        "drive.mount('/content/drive')\n"
      ],
      "metadata": {
        "colab": {
          "base_uri": "https://localhost:8080/"
        },
        "id": "ClQ_M9qOKDub",
        "outputId": "6a12378b-b822-4cf7-c695-cf0cf0321c5a"
      },
      "execution_count": 25,
      "outputs": [
        {
          "output_type": "stream",
          "name": "stdout",
          "text": [
            "Drive already mounted at /content/drive; to attempt to forcibly remount, call drive.mount(\"/content/drive\", force_remount=True).\n"
          ]
        }
      ]
    },
    {
      "cell_type": "code",
      "source": [
        "from google.colab import files\n",
        "uploaded = files.upload()\n"
      ],
      "metadata": {
        "colab": {
          "base_uri": "https://localhost:8080/",
          "height": 73
        },
        "id": "NXNNWAdTKQsj",
        "outputId": "05abf8b5-2ab8-4685-c7bc-765580941caa"
      },
      "execution_count": 26,
      "outputs": [
        {
          "output_type": "display_data",
          "data": {
            "text/plain": [
              "<IPython.core.display.HTML object>"
            ],
            "text/html": [
              "\n",
              "     <input type=\"file\" id=\"files-7df198a7-2f7e-4dcd-85d1-0ff13d2db25e\" name=\"files[]\" multiple disabled\n",
              "        style=\"border:none\" />\n",
              "     <output id=\"result-7df198a7-2f7e-4dcd-85d1-0ff13d2db25e\">\n",
              "      Upload widget is only available when the cell has been executed in the\n",
              "      current browser session. Please rerun this cell to enable.\n",
              "      </output>\n",
              "      <script>// Copyright 2017 Google LLC\n",
              "//\n",
              "// Licensed under the Apache License, Version 2.0 (the \"License\");\n",
              "// you may not use this file except in compliance with the License.\n",
              "// You may obtain a copy of the License at\n",
              "//\n",
              "//      http://www.apache.org/licenses/LICENSE-2.0\n",
              "//\n",
              "// Unless required by applicable law or agreed to in writing, software\n",
              "// distributed under the License is distributed on an \"AS IS\" BASIS,\n",
              "// WITHOUT WARRANTIES OR CONDITIONS OF ANY KIND, either express or implied.\n",
              "// See the License for the specific language governing permissions and\n",
              "// limitations under the License.\n",
              "\n",
              "/**\n",
              " * @fileoverview Helpers for google.colab Python module.\n",
              " */\n",
              "(function(scope) {\n",
              "function span(text, styleAttributes = {}) {\n",
              "  const element = document.createElement('span');\n",
              "  element.textContent = text;\n",
              "  for (const key of Object.keys(styleAttributes)) {\n",
              "    element.style[key] = styleAttributes[key];\n",
              "  }\n",
              "  return element;\n",
              "}\n",
              "\n",
              "// Max number of bytes which will be uploaded at a time.\n",
              "const MAX_PAYLOAD_SIZE = 100 * 1024;\n",
              "\n",
              "function _uploadFiles(inputId, outputId) {\n",
              "  const steps = uploadFilesStep(inputId, outputId);\n",
              "  const outputElement = document.getElementById(outputId);\n",
              "  // Cache steps on the outputElement to make it available for the next call\n",
              "  // to uploadFilesContinue from Python.\n",
              "  outputElement.steps = steps;\n",
              "\n",
              "  return _uploadFilesContinue(outputId);\n",
              "}\n",
              "\n",
              "// This is roughly an async generator (not supported in the browser yet),\n",
              "// where there are multiple asynchronous steps and the Python side is going\n",
              "// to poll for completion of each step.\n",
              "// This uses a Promise to block the python side on completion of each step,\n",
              "// then passes the result of the previous step as the input to the next step.\n",
              "function _uploadFilesContinue(outputId) {\n",
              "  const outputElement = document.getElementById(outputId);\n",
              "  const steps = outputElement.steps;\n",
              "\n",
              "  const next = steps.next(outputElement.lastPromiseValue);\n",
              "  return Promise.resolve(next.value.promise).then((value) => {\n",
              "    // Cache the last promise value to make it available to the next\n",
              "    // step of the generator.\n",
              "    outputElement.lastPromiseValue = value;\n",
              "    return next.value.response;\n",
              "  });\n",
              "}\n",
              "\n",
              "/**\n",
              " * Generator function which is called between each async step of the upload\n",
              " * process.\n",
              " * @param {string} inputId Element ID of the input file picker element.\n",
              " * @param {string} outputId Element ID of the output display.\n",
              " * @return {!Iterable<!Object>} Iterable of next steps.\n",
              " */\n",
              "function* uploadFilesStep(inputId, outputId) {\n",
              "  const inputElement = document.getElementById(inputId);\n",
              "  inputElement.disabled = false;\n",
              "\n",
              "  const outputElement = document.getElementById(outputId);\n",
              "  outputElement.innerHTML = '';\n",
              "\n",
              "  const pickedPromise = new Promise((resolve) => {\n",
              "    inputElement.addEventListener('change', (e) => {\n",
              "      resolve(e.target.files);\n",
              "    });\n",
              "  });\n",
              "\n",
              "  const cancel = document.createElement('button');\n",
              "  inputElement.parentElement.appendChild(cancel);\n",
              "  cancel.textContent = 'Cancel upload';\n",
              "  const cancelPromise = new Promise((resolve) => {\n",
              "    cancel.onclick = () => {\n",
              "      resolve(null);\n",
              "    };\n",
              "  });\n",
              "\n",
              "  // Wait for the user to pick the files.\n",
              "  const files = yield {\n",
              "    promise: Promise.race([pickedPromise, cancelPromise]),\n",
              "    response: {\n",
              "      action: 'starting',\n",
              "    }\n",
              "  };\n",
              "\n",
              "  cancel.remove();\n",
              "\n",
              "  // Disable the input element since further picks are not allowed.\n",
              "  inputElement.disabled = true;\n",
              "\n",
              "  if (!files) {\n",
              "    return {\n",
              "      response: {\n",
              "        action: 'complete',\n",
              "      }\n",
              "    };\n",
              "  }\n",
              "\n",
              "  for (const file of files) {\n",
              "    const li = document.createElement('li');\n",
              "    li.append(span(file.name, {fontWeight: 'bold'}));\n",
              "    li.append(span(\n",
              "        `(${file.type || 'n/a'}) - ${file.size} bytes, ` +\n",
              "        `last modified: ${\n",
              "            file.lastModifiedDate ? file.lastModifiedDate.toLocaleDateString() :\n",
              "                                    'n/a'} - `));\n",
              "    const percent = span('0% done');\n",
              "    li.appendChild(percent);\n",
              "\n",
              "    outputElement.appendChild(li);\n",
              "\n",
              "    const fileDataPromise = new Promise((resolve) => {\n",
              "      const reader = new FileReader();\n",
              "      reader.onload = (e) => {\n",
              "        resolve(e.target.result);\n",
              "      };\n",
              "      reader.readAsArrayBuffer(file);\n",
              "    });\n",
              "    // Wait for the data to be ready.\n",
              "    let fileData = yield {\n",
              "      promise: fileDataPromise,\n",
              "      response: {\n",
              "        action: 'continue',\n",
              "      }\n",
              "    };\n",
              "\n",
              "    // Use a chunked sending to avoid message size limits. See b/62115660.\n",
              "    let position = 0;\n",
              "    do {\n",
              "      const length = Math.min(fileData.byteLength - position, MAX_PAYLOAD_SIZE);\n",
              "      const chunk = new Uint8Array(fileData, position, length);\n",
              "      position += length;\n",
              "\n",
              "      const base64 = btoa(String.fromCharCode.apply(null, chunk));\n",
              "      yield {\n",
              "        response: {\n",
              "          action: 'append',\n",
              "          file: file.name,\n",
              "          data: base64,\n",
              "        },\n",
              "      };\n",
              "\n",
              "      let percentDone = fileData.byteLength === 0 ?\n",
              "          100 :\n",
              "          Math.round((position / fileData.byteLength) * 100);\n",
              "      percent.textContent = `${percentDone}% done`;\n",
              "\n",
              "    } while (position < fileData.byteLength);\n",
              "  }\n",
              "\n",
              "  // All done.\n",
              "  yield {\n",
              "    response: {\n",
              "      action: 'complete',\n",
              "    }\n",
              "  };\n",
              "}\n",
              "\n",
              "scope.google = scope.google || {};\n",
              "scope.google.colab = scope.google.colab || {};\n",
              "scope.google.colab._files = {\n",
              "  _uploadFiles,\n",
              "  _uploadFilesContinue,\n",
              "};\n",
              "})(self);\n",
              "</script> "
            ]
          },
          "metadata": {}
        },
        {
          "output_type": "stream",
          "name": "stdout",
          "text": [
            "Saving Logistic_question.csv to Logistic_question.csv\n"
          ]
        }
      ]
    },
    {
      "cell_type": "code",
      "source": [
        "import shutil\n",
        "shutil.move(\"Logistic_question.csv\", \"/content/drive/My Drive/Logistic_question.csv\")\n"
      ],
      "metadata": {
        "colab": {
          "base_uri": "https://localhost:8080/",
          "height": 36
        },
        "id": "IPP0kma-KYB4",
        "outputId": "d583cd69-8b04-475d-ea0b-141a02c11eec"
      },
      "execution_count": 27,
      "outputs": [
        {
          "output_type": "execute_result",
          "data": {
            "text/plain": [
              "'/content/drive/My Drive/Logistic_question.csv'"
            ],
            "application/vnd.google.colaboratory.intrinsic+json": {
              "type": "string"
            }
          },
          "metadata": {},
          "execution_count": 27
        }
      ]
    },
    {
      "cell_type": "code",
      "source": [
        "import pandas as pd\n",
        "\n",
        "# Load the dataset from the CSV file\n",
        "Logistic_question_data = pd.read_csv(\"/content/drive/My Drive/Logistic_question.csv\")\n",
        "\n",
        "# Display the first few rows of the dataset to understand its structure and features\n",
        "print(\"First few rows of the Logistic_question dataset:\")\n",
        "print(Logistic_question_data.head())\n",
        "\n",
        "# Display the shape of the dataset\n",
        "print(\"\\nShape of the Logistic_question dataset:\")\n",
        "print(Logistic_question_data.shape)\n"
      ],
      "metadata": {
        "colab": {
          "base_uri": "https://localhost:8080/"
        },
        "id": "nDHAuPEqKjgX",
        "outputId": "6c3e58af-837b-44ef-fefa-76544db29ff5"
      },
      "execution_count": 28,
      "outputs": [
        {
          "output_type": "stream",
          "name": "stdout",
          "text": [
            "First few rows of the Logistic_question dataset:\n",
            "   Feature 1  Feature 2  Feature 3  Feature 4  Feature 5  Feature 6  \\\n",
            "0         47       11.8          4        4.5        4.5       9.65   \n",
            "1         34       10.7          4        4.0        4.5       8.87   \n",
            "2         26       10.4          3        3.0        3.5       8.00   \n",
            "3         32       11.0          3        3.5        2.5       8.67   \n",
            "4         24       10.3          2        2.0        3.0       8.21   \n",
            "\n",
            "   Feature 7  Target  \n",
            "0          1    0.92  \n",
            "1          1    0.76  \n",
            "2          1    0.72  \n",
            "3          1    0.80  \n",
            "4          0    0.65  \n",
            "\n",
            "Shape of the Logistic_question dataset:\n",
            "(400, 8)\n"
          ]
        }
      ]
    },
    {
      "cell_type": "code",
      "source": [
        "import torch\n",
        "import torch.nn as nn\n",
        "import torch.optim as optim\n",
        "import pandas as pd\n",
        "from sklearn.model_selection import train_test_split\n",
        "from sklearn.preprocessing import StandardScaler\n",
        "\n",
        "class MyLogisticRegression:\n",
        "    def __init__(self, input_dim):\n",
        "        self.model = nn.Sequential(\n",
        "            nn.Linear(input_dim, 1),\n",
        "            nn.Sigmoid()\n",
        "        )\n",
        "\n",
        "    def loss_fn(self, y_pred, y_true):\n",
        "        return nn.BCELoss()(y_pred, y_true)\n",
        "\n",
        "    def fit(self, X_train, y_train, epochs=100, lr=0.01):\n",
        "        optimizer = optim.SGD(self.model.parameters(), lr=lr)\n",
        "\n",
        "        for epoch in range(epochs):\n",
        "            optimizer.zero_grad()\n",
        "            y_pred = self.model(X_train)\n",
        "            loss = self.loss_fn(y_pred, y_train)\n",
        "            loss.backward()\n",
        "            optimizer.step()\n",
        "\n",
        "            if epoch % 10 == 0:\n",
        "                print(f\"Epoch {epoch+1}/{epochs}, Loss: {loss.item()}\")\n",
        "\n",
        "    def predict(self, X):\n",
        "        with torch.no_grad():\n",
        "            self.model.eval()\n",
        "            y_pred = self.model(X)\n",
        "            return (y_pred >= 0.5).float()\n",
        "\n",
        "# Load dataset\n",
        "data = pd.read_csv(\"/content/drive/My Drive/Logistic_question.csv\")\n",
        "\n",
        "# Preprocessing\n",
        "X = data.iloc[:, :-1].values\n",
        "y = data.iloc[:, -1].values.reshape(-1, 1)\n",
        "\n",
        "scaler = StandardScaler()\n",
        "X = scaler.fit_transform(X)\n",
        "\n",
        "X_train, X_test, y_train, y_test = train_test_split(X, y, test_size=0.2, random_state=42)\n",
        "\n",
        "# Convert to PyTorch tensors\n",
        "X_train_tensor = torch.tensor(X_train, dtype=torch.float32)\n",
        "y_train_tensor = torch.tensor(y_train, dtype=torch.float32)\n",
        "\n",
        "X_test_tensor = torch.tensor(X_test, dtype=torch.float32)\n",
        "\n",
        "# Initialize and train the model\n",
        "model = MyLogisticRegression(input_dim=X_train.shape[1])\n",
        "model.fit(X_train_tensor, y_train_tensor)\n",
        "\n",
        "# Predictions\n",
        "y_pred = model.predict(X_test_tensor)\n"
      ],
      "metadata": {
        "colab": {
          "base_uri": "https://localhost:8080/"
        },
        "id": "zcOKM-evtV94",
        "outputId": "b4fb8570-573d-4261-cfac-4f966cfcead2"
      },
      "execution_count": 29,
      "outputs": [
        {
          "output_type": "stream",
          "name": "stdout",
          "text": [
            "Epoch 1/100, Loss: 0.7577596306800842\n",
            "Epoch 11/100, Loss: 0.7480853796005249\n",
            "Epoch 21/100, Loss: 0.7389706373214722\n",
            "Epoch 31/100, Loss: 0.7303656339645386\n",
            "Epoch 41/100, Loss: 0.7222272753715515\n",
            "Epoch 51/100, Loss: 0.7145188450813293\n",
            "Epoch 61/100, Loss: 0.707207977771759\n",
            "Epoch 71/100, Loss: 0.7002667784690857\n",
            "Epoch 81/100, Loss: 0.693670392036438\n",
            "Epoch 91/100, Loss: 0.6873966455459595\n"
          ]
        }
      ]
    },
    {
      "cell_type": "markdown",
      "metadata": {
        "id": "S-i-oubUlZ6e"
      },
      "source": [
        "**Task:** Test your model on the given dataset. You must split your data into train and test, with a 0.2 split, then normalize your data using X_train data. Finally, report 4 different evaluation metrics of the model on the test set. (You might want to first make the Target column binary!)"
      ]
    },
    {
      "cell_type": "code",
      "execution_count": 31,
      "metadata": {
        "colab": {
          "base_uri": "https://localhost:8080/"
        },
        "id": "0KXzIy_2u-pG",
        "outputId": "76b76887-4129-4316-c987-3770208b0049"
      },
      "outputs": [
        {
          "output_type": "stream",
          "name": "stdout",
          "text": [
            "Epoch 1/100, Loss: 0.6703535318374634\n",
            "Epoch 11/100, Loss: 0.6551795601844788\n",
            "Epoch 21/100, Loss: 0.6407490372657776\n",
            "Epoch 31/100, Loss: 0.6270216703414917\n",
            "Epoch 41/100, Loss: 0.6139588952064514\n",
            "Epoch 51/100, Loss: 0.6015231609344482\n",
            "Epoch 61/100, Loss: 0.5896787047386169\n",
            "Epoch 71/100, Loss: 0.5783915519714355\n",
            "Epoch 81/100, Loss: 0.5676292777061462\n",
            "Epoch 91/100, Loss: 0.5573612451553345\n",
            "Evaluation Metrics:\n",
            "Accuracy: 0.8705\n",
            "Precision: 0.9602704987320372\n",
            "Recall: 0.8427299703264095\n",
            "F1-score: 0.8976689055709206\n"
          ]
        }
      ],
      "source": [
        "import torch\n",
        "import torch.nn as nn\n",
        "import torch.optim as optim\n",
        "import pandas as pd\n",
        "from sklearn.model_selection import train_test_split\n",
        "from sklearn.preprocessing import StandardScaler\n",
        "from sklearn.metrics import accuracy_score, precision_score, recall_score, f1_score\n",
        "\n",
        "class MyLogisticRegression:\n",
        "    def __init__(self, input_dim):\n",
        "        self.model = nn.Sequential(\n",
        "            nn.Linear(input_dim, 1),\n",
        "            nn.Sigmoid()\n",
        "        )\n",
        "\n",
        "    def loss_fn(self, y_pred, y_true):\n",
        "        return nn.BCELoss()(y_pred, y_true)\n",
        "\n",
        "    def fit(self, X_train, y_train, epochs=100, lr=0.01):\n",
        "        optimizer = optim.SGD(self.model.parameters(), lr=lr)\n",
        "\n",
        "        for epoch in range(epochs):\n",
        "            optimizer.zero_grad()\n",
        "            y_pred = self.model(X_train).squeeze(1)  # Ensure predictions are a column vector\n",
        "            loss = self.loss_fn(y_pred, y_train)\n",
        "            loss.backward()\n",
        "            optimizer.step()\n",
        "\n",
        "            if epoch % 10 == 0:\n",
        "                print(f\"Epoch {epoch+1}/{epochs}, Loss: {loss.item()}\")\n",
        "\n",
        "    def predict(self, X):\n",
        "        with torch.no_grad():\n",
        "            self.model.eval()\n",
        "            y_pred = self.model(X).squeeze(1)  # Ensure predictions are a column vector\n",
        "            return (y_pred >= 0.5).float()\n",
        "\n",
        "# Load dataset\n",
        "data = pd.read_csv(\"/content/drive/My Drive/data_logistic.csv\")\n",
        "\n",
        "# Preprocessing\n",
        "X = data.iloc[:, :-1].values\n",
        "y = data.iloc[:, -1].values\n",
        "\n",
        "# Convert target column to binary\n",
        "y_binary = (y > 0).astype(int)\n",
        "\n",
        "# Splitting the data into train and test sets\n",
        "X_train, X_test, y_train, y_test = train_test_split(X, y_binary, test_size=0.2, random_state=42)\n",
        "\n",
        "# Normalize the features using the mean and standard deviation of the training set\n",
        "scaler = StandardScaler()\n",
        "X_train = scaler.fit_transform(X_train)\n",
        "X_test = scaler.transform(X_test)\n",
        "\n",
        "# Convert to PyTorch tensors\n",
        "X_train_tensor = torch.tensor(X_train, dtype=torch.float32)\n",
        "y_train_tensor = torch.tensor(y_train, dtype=torch.float32).flatten()  # Flatten the target tensor\n",
        "\n",
        "X_test_tensor = torch.tensor(X_test, dtype=torch.float32)\n",
        "\n",
        "# Initialize and train the model\n",
        "model = MyLogisticRegression(input_dim=X_train.shape[1])\n",
        "model.fit(X_train_tensor, y_train_tensor)\n",
        "\n",
        "# Predictions\n",
        "y_pred = model.predict(X_test_tensor)\n",
        "\n",
        "# Evaluation\n",
        "accuracy = accuracy_score(y_test, y_pred.numpy())\n",
        "precision = precision_score(y_test, y_pred.numpy())\n",
        "recall = recall_score(y_test, y_pred.numpy())\n",
        "f1 = f1_score(y_test, y_pred.numpy())\n",
        "\n",
        "print(\"Evaluation Metrics:\")\n",
        "print(f\"Accuracy: {accuracy}\")\n",
        "print(f\"Precision: {precision}\")\n",
        "print(f\"Recall: {recall}\")\n",
        "print(f\"F1-score: {f1}\")"
      ]
    },
    {
      "cell_type": "markdown",
      "metadata": {
        "id": "Ji0RXNGKv1pa"
      },
      "source": [
        "**Question:** What are each of your used evaluation metrics? And for each one, mention situations in which they convey more data on the model performance in specific tasks."
      ]
    },
    {
      "cell_type": "markdown",
      "metadata": {
        "id": "ldveD35twRRZ"
      },
      "source": [
        "**Your answer:**\n",
        "Sure, let's discuss each of the evaluation metrics used in this context:\n",
        "\n",
        "1. **Accuracy**: Accuracy measures the proportion of correctly classified instances out of the total instances. It is calculated as (TP + TN) / (TP + TN + FP + FN), where TP is the number of true positives, TN is the number of true negatives, FP is the number of false positives, and FN is the number of false negatives. Accuracy provides an overall assessment of the model's performance but can be misleading if the classes are imbalanced.\n",
        "\n",
        "2. **Precision**: Precision measures the proportion of true positive predictions among all positive predictions made by the model. It is calculated as TP / (TP + FP). Precision is useful in tasks where the cost of false positives is high, such as medical diagnosis or spam detection. A high precision indicates that the model is making fewer false positive errors.\n",
        "\n",
        "3. **Recall (Sensitivity)**: Recall measures the proportion of true positive predictions among all actual positive instances in the data. It is calculated as TP / (TP + FN). Recall is important in tasks where missing positive instances is costly, such as disease detection or fault detection. A high recall indicates that the model is capturing a large proportion of positive instances.\n",
        "\n",
        "4. **F1-score**: The F1-score is the harmonic mean of precision and recall, combining both measures into a single value. It is calculated as 2 * (precision * recall) / (precision + recall). The F1-score provides a balance between precision and recall and is useful when there is an uneven class distribution or when false positives and false negatives have different costs. It is particularly informative in binary classification tasks where classes are imbalanced.\n",
        "\n",
        "In summary:\n",
        "- **Accuracy** gives an overall view of the model's performance but can be misleading in imbalanced datasets.\n",
        "- **Precision** is valuable when minimizing false positives is important.\n",
        "- **Recall** is valuable when minimizing false negatives is important.\n",
        "- **F1-score** provides a balanced measure of precision and recall, suitable for imbalanced datasets or when both false positives and false negatives are important."
      ]
    },
    {
      "cell_type": "markdown",
      "metadata": {
        "id": "1ZCeRHZSw-mh"
      },
      "source": [
        "**Task:** Now test the built-in function of Python for Logistic Regression, and report all the same metrics used before."
      ]
    },
    {
      "cell_type": "code",
      "execution_count": 32,
      "metadata": {
        "id": "Vb5lRSQXDLR3",
        "colab": {
          "base_uri": "https://localhost:8080/"
        },
        "outputId": "b4c3e956-f24f-4b44-efaf-22c856d14f36"
      },
      "outputs": [
        {
          "output_type": "stream",
          "name": "stdout",
          "text": [
            "Evaluation Metrics for Built-in Logistic Regression:\n",
            "Accuracy: 0.9995\n",
            "Precision: 0.9992587101556709\n",
            "Recall: 1.0\n",
            "F1-score: 0.99962921764924\n"
          ]
        }
      ],
      "source": [
        "# Your code goes here!\n",
        "import pandas as pd\n",
        "from sklearn.model_selection import train_test_split\n",
        "from sklearn.preprocessing import StandardScaler\n",
        "from sklearn.linear_model import LogisticRegression\n",
        "from sklearn.metrics import accuracy_score, precision_score, recall_score, f1_score\n",
        "\n",
        "# Load dataset\n",
        "\n",
        "# Preprocessing\n",
        "X = data.iloc[:, :-1].values\n",
        "y = data.iloc[:, -1].values\n",
        "\n",
        "# Convert target column to binary\n",
        "y_binary = (y > 0).astype(int)\n",
        "\n",
        "# Splitting the data into train and test sets\n",
        "X_train, X_test, y_train, y_test = train_test_split(X, y_binary, test_size=0.2, random_state=42)\n",
        "\n",
        "# Normalize the features using the mean and standard deviation of the training set\n",
        "scaler = StandardScaler()\n",
        "X_train = scaler.fit_transform(X_train)\n",
        "X_test = scaler.transform(X_test)\n",
        "\n",
        "# Initialize and train the logistic regression model\n",
        "model = LogisticRegression()\n",
        "model.fit(X_train, y_train)\n",
        "\n",
        "# Predictions\n",
        "y_pred = model.predict(X_test)\n",
        "\n",
        "# Evaluation\n",
        "accuracy = accuracy_score(y_test, y_pred)\n",
        "precision = precision_score(y_test, y_pred)\n",
        "recall = recall_score(y_test, y_pred)\n",
        "f1 = f1_score(y_test, y_pred)\n",
        "\n",
        "print(\"Evaluation Metrics for Built-in Logistic Regression:\")\n",
        "print(f\"Accuracy: {accuracy}\")\n",
        "print(f\"Precision: {precision}\")\n",
        "print(f\"Recall: {recall}\")\n",
        "print(f\"F1-score: {f1}\")\n"
      ]
    },
    {
      "cell_type": "code",
      "source": [
        "import torch\n",
        "import torch.nn as nn\n",
        "import torch.optim as optim\n",
        "import pandas as pd\n",
        "from sklearn.model_selection import train_test_split\n",
        "from sklearn.preprocessing import StandardScaler\n",
        "from sklearn.metrics import accuracy_score, precision_score, recall_score, f1_score\n",
        "\n",
        "class MyLogisticRegression:\n",
        "    def __init__(self, input_dim):\n",
        "        self.model = nn.Sequential(\n",
        "            nn.Linear(input_dim, 1),\n",
        "            nn.Sigmoid()\n",
        "        )\n",
        "\n",
        "    def loss_fn(self, y_pred, y_true):\n",
        "        return nn.BCELoss()(y_pred, y_true)\n",
        "\n",
        "    def fit(self, X_train, y_train, epochs=1000, lr=0.1):\n",
        "        optimizer = optim.Adam(self.model.parameters(), lr=lr)\n",
        "\n",
        "        for epoch in range(epochs):\n",
        "            optimizer.zero_grad()\n",
        "            y_pred = self.model(X_train).squeeze(1)  # Ensure predictions are a column vector\n",
        "            loss = self.loss_fn(y_pred, y_train)\n",
        "            loss.backward()\n",
        "            optimizer.step()\n",
        "\n",
        "            if epoch % 100 == 0:\n",
        "                print(f\"Epoch {epoch+1}/{epochs}, Loss: {loss.item()}\")\n",
        "\n",
        "    def predict(self, X):\n",
        "        with torch.no_grad():\n",
        "            self.model.eval()\n",
        "            y_pred = self.model(X).squeeze(1)  # Ensure predictions are a column vector\n",
        "            return (y_pred >= 0.5).float()\n",
        "\n",
        "# Load dataset\n",
        "\n",
        "# Preprocessing\n",
        "X = data.iloc[:, :-1].values\n",
        "y = data.iloc[:, -1].values\n",
        "\n",
        "# Convert target column to binary\n",
        "y_binary = (y > 0).astype(int)\n",
        "\n",
        "# Splitting the data into train and test sets\n",
        "X_train, X_test, y_train, y_test = train_test_split(X, y_binary, test_size=0.2, random_state=42)\n",
        "\n",
        "# Normalize the features using the mean and standard deviation of the training set\n",
        "scaler = StandardScaler()\n",
        "X_train = scaler.fit_transform(X_train)\n",
        "X_test = scaler.transform(X_test)\n",
        "\n",
        "# Convert to PyTorch tensors\n",
        "X_train_tensor = torch.tensor(X_train, dtype=torch.float32)\n",
        "y_train_tensor = torch.tensor(y_train, dtype=torch.float32).flatten()  # Flatten the target tensor\n",
        "\n",
        "X_test_tensor = torch.tensor(X_test, dtype=torch.float32)\n",
        "\n",
        "# Initialize and train the model\n",
        "model = MyLogisticRegression(input_dim=X_train.shape[1])\n",
        "model.fit(X_train_tensor, y_train_tensor)\n",
        "\n",
        "# Predictions\n",
        "y_pred = model.predict(X_test_tensor)\n",
        "\n",
        "# Evaluation\n",
        "accuracy = accuracy_score(y_test, y_pred)\n",
        "precision = precision_score(y_test, y_pred)\n",
        "recall = recall_score(y_test, y_pred)\n",
        "f1 = f1_score(y_test, y_pred)\n",
        "\n",
        "print(\"Evaluation Metrics for Custom Logistic Regression:\")\n",
        "print(f\"Accuracy: {accuracy}\")\n",
        "print(f\"Precision: {precision}\")\n",
        "print(f\"Recall: {recall}\")\n",
        "print(f\"F1-score: {f1}\")\n"
      ],
      "metadata": {
        "colab": {
          "base_uri": "https://localhost:8080/"
        },
        "id": "GsdHc34McoTD",
        "outputId": "ea0ef858-320c-4a88-d9a0-d98d8da78325"
      },
      "execution_count": 33,
      "outputs": [
        {
          "output_type": "stream",
          "name": "stdout",
          "text": [
            "Epoch 1/1000, Loss: 0.7286030650138855\n",
            "Epoch 101/1000, Loss: 0.0970899909734726\n",
            "Epoch 201/1000, Loss: 0.0714481920003891\n",
            "Epoch 301/1000, Loss: 0.05899488925933838\n",
            "Epoch 401/1000, Loss: 0.05124291777610779\n",
            "Epoch 501/1000, Loss: 0.04580654576420784\n",
            "Epoch 601/1000, Loss: 0.04171392694115639\n",
            "Epoch 701/1000, Loss: 0.03848390281200409\n",
            "Epoch 801/1000, Loss: 0.03584703430533409\n",
            "Epoch 901/1000, Loss: 0.033638909459114075\n",
            "Evaluation Metrics for Custom Logistic Regression:\n",
            "Accuracy: 0.999\n",
            "Precision: 0.9992581602373887\n",
            "Recall: 0.9992581602373887\n",
            "F1-score: 0.9992581602373887\n"
          ]
        }
      ]
    },
    {
      "cell_type": "markdown",
      "metadata": {
        "id": "RCvIymmMy_ji"
      },
      "source": [
        "**Question:** Compare your function with the built-in function. On the matters of performance and parameters. Briefly explain what the parameters of the built-in function are and how they affect the model's performance?"
      ]
    },
    {
      "cell_type": "markdown",
      "metadata": {
        "id": "EY0ohM16z3De"
      },
      "source": [
        "**Your answer:**\n",
        "Comparing the custom logistic regression function with the built-in logistic regression function reveals differences in terms of performance and parameters.\n",
        "\n",
        "**Performance:**\n",
        "- Both implementations yield comparable performance in terms of evaluation metrics such as accuracy, precision, recall, and F1-score.\n",
        "- The performance of the custom logistic regression function heavily depends on the implementation details, such as the choice of optimization algorithm, learning rate, and number of epochs.\n",
        "- The built-in logistic regression function (from `sklearn.linear_model.LogisticRegression`) is optimized and extensively tested, offering a reliable and efficient solution out of the box.\n",
        "\n",
        "**Parameters of Built-in Logistic Regression Function:**\n",
        "- The `LogisticRegression` class in scikit-learn offers various parameters to fine-tune the model:\n",
        "  - `penalty`: Specifies the norm used in the penalization (e.g., L1 or L2 regularization).\n",
        "  - `C`: Inverse of regularization strength; smaller values specify stronger regularization.\n",
        "  - `solver`: Algorithm to use in the optimization problem (e.g., 'liblinear', 'lbfgs', 'sag', 'saga').\n",
        "  - `max_iter`: Maximum number of iterations taken for the solver to converge.\n",
        "  - `tol`: Tolerance for stopping criteria.\n",
        "  - `class_weight`: Weights associated with classes in the form `{class_label: weight}` to address class imbalance.\n",
        "  - `random_state`: Seed for random number generation to ensure reproducibility.\n",
        "\n",
        "**Effect of Parameters on Model's Performance:**\n",
        "- `penalty` and `C`: Control the regularization strength. Higher `C` values result in less regularization, potentially leading to overfitting.\n",
        "- `solver` and `max_iter`: Influence the optimization algorithm and the number of iterations required for convergence. Certain solvers may perform better or worse depending on the dataset size and characteristics.\n",
        "- `class_weight`: Can be used to address class imbalance by assigning different weights to different classes.\n",
        "- `random_state`: Ensures reproducibility of results by fixing the seed for random number generation.\n",
        "\n",
        "In summary, while the custom implementation offers flexibility and control over the logistic regression model, the built-in function provides a more convenient and optimized solution with parameters that can be adjusted to tailor the model's behavior to specific datasets and tasks."
      ]
    },
    {
      "cell_type": "markdown",
      "metadata": {
        "id": "ClMqoYlr2kr7"
      },
      "source": [
        "# Multinomial Logistic Regression"
      ]
    },
    {
      "cell_type": "markdown",
      "metadata": {
        "id": "ukvlqDe52xP5"
      },
      "source": [
        "**Task:** Implement your own Multinomial Logistic Regression model. Your model must be able to handle any number of labels!"
      ]
    },
    {
      "cell_type": "code",
      "source": [
        "import torch\n",
        "import torch.nn as nn\n",
        "import torch.optim as optim\n",
        "import pandas as pd\n",
        "from sklearn.model_selection import train_test_split\n",
        "from sklearn.preprocessing import StandardScaler\n",
        "from sklearn.metrics import accuracy_score\n",
        "\n",
        "class MyMultinomialLogisticRegression:\n",
        "    def __init__(self, input_dim, output_dim):\n",
        "        self.model = nn.Sequential(\n",
        "            nn.Linear(input_dim, output_dim)\n",
        "        )\n",
        "\n",
        "    def loss_fn(self, y_pred, y_true):\n",
        "        return nn.CrossEntropyLoss()(y_pred, y_true)\n",
        "\n",
        "    def fit(self, X_train, y_train, epochs=100, lr=0.01):\n",
        "        optimizer = optim.SGD(self.model.parameters(), lr=lr)\n",
        "\n",
        "        for epoch in range(epochs):\n",
        "            optimizer.zero_grad()\n",
        "            y_pred = self.model(X_train)\n",
        "            loss = self.loss_fn(y_pred, y_train)\n",
        "            loss.backward()\n",
        "            optimizer.step()\n",
        "\n",
        "            if epoch % 10 == 0:\n",
        "                print(f\"Epoch {epoch+1}/{epochs}, Loss: {loss.item()}\")\n",
        "\n",
        "    def predict(self, X):\n",
        "        with torch.no_grad():\n",
        "            self.model.eval()\n",
        "            _, predicted = torch.max(self.model(X), 1)\n",
        "            return predicted\n",
        "\n",
        "# Load dataset\n",
        "\n",
        "# Preprocessing\n",
        "X = data.iloc[:, :-1].values\n",
        "y = data.iloc[:, -1].values\n",
        "\n",
        "# Convert target to tensor\n",
        "y_tensor = torch.tensor(y, dtype=torch.long)\n",
        "\n",
        "# Splitting the data into train and test sets\n",
        "X_train, X_test, y_train, y_test = train_test_split(X, y_tensor, test_size=0.2, random_state=42)\n",
        "\n",
        "# Normalize the features using the mean and standard deviation of the training set\n",
        "scaler = StandardScaler()\n",
        "X_train = scaler.fit_transform(X_train)\n",
        "X_test = scaler.transform(X_test)\n",
        "\n",
        "# Convert to PyTorch tensors\n",
        "X_train_tensor = torch.tensor(X_train, dtype=torch.float32)\n",
        "y_train_tensor = y_train\n",
        "\n",
        "X_test_tensor = torch.tensor(X_test, dtype=torch.float32)\n",
        "\n",
        "# Initialize and train the model\n",
        "input_dim = X_train.shape[1]\n",
        "output_dim = len(torch.unique(y_train))\n",
        "model = MyMultinomialLogisticRegression(input_dim, output_dim)\n",
        "model.fit(X_train_tensor, y_train_tensor)\n",
        "\n",
        "# Predictions\n",
        "y_pred = model.predict(X_test_tensor)\n",
        "\n",
        "# Calculate accuracy\n",
        "accuracy = accuracy_score(y_test.numpy(), y_pred.numpy())\n",
        "print(f\"Accuracy: {accuracy}\")\n"
      ],
      "metadata": {
        "colab": {
          "base_uri": "https://localhost:8080/"
        },
        "id": "Z2i3RfE-c-Uf",
        "outputId": "651bc3a4-eb6b-4642-cb2a-d30b7da5338e"
      },
      "execution_count": 34,
      "outputs": [
        {
          "output_type": "stream",
          "name": "stdout",
          "text": [
            "Epoch 1/100, Loss: 0.8143534064292908\n",
            "Epoch 11/100, Loss: 0.7715678811073303\n",
            "Epoch 21/100, Loss: 0.7326731085777283\n",
            "Epoch 31/100, Loss: 0.6973704099655151\n",
            "Epoch 41/100, Loss: 0.6653509140014648\n",
            "Epoch 51/100, Loss: 0.6363070011138916\n",
            "Epoch 61/100, Loss: 0.6099427938461304\n",
            "Epoch 71/100, Loss: 0.5859805345535278\n",
            "Epoch 81/100, Loss: 0.5641641616821289\n",
            "Epoch 91/100, Loss: 0.5442614555358887\n",
            "Accuracy: 0.8095\n"
          ]
        }
      ]
    },
    {
      "cell_type": "markdown",
      "metadata": {
        "id": "zPQ3Rtay3Y2_"
      },
      "source": [
        "**Task:** Test your model on the given dataset. Do the same as the previous part, but here you might want to first make the Target column quantized into $i$ levels. Change $i$ from 2 to 10."
      ]
    },
    {
      "cell_type": "code",
      "source": [
        "import torch\n",
        "import torch.nn as nn\n",
        "import torch.optim as optim\n",
        "import pandas as pd\n",
        "from sklearn.model_selection import train_test_split\n",
        "from sklearn.preprocessing import StandardScaler\n",
        "from sklearn.metrics import accuracy_score\n",
        "\n",
        "class MyMultinomialLogisticRegression:\n",
        "    def __init__(self, input_dim, output_dim):\n",
        "        self.model = nn.Sequential(\n",
        "            nn.Linear(input_dim, output_dim)\n",
        "        )\n",
        "\n",
        "    def loss_fn(self, y_pred, y_true):\n",
        "        return nn.CrossEntropyLoss()(y_pred, y_true)\n",
        "\n",
        "    def fit(self, X_train, y_train, epochs=100, lr=0.01):\n",
        "        optimizer = optim.SGD(self.model.parameters(), lr=lr)\n",
        "\n",
        "        for epoch in range(epochs):\n",
        "            optimizer.zero_grad()\n",
        "            y_pred = self.model(X_train)\n",
        "            loss = self.loss_fn(y_pred, y_train)\n",
        "            loss.backward()\n",
        "            optimizer.step()\n",
        "\n",
        "            if epoch % 10 == 0:\n",
        "                print(f\"Epoch {epoch+1}/{epochs}, Loss: {loss.item()}\")\n",
        "\n",
        "    def predict(self, X):\n",
        "        with torch.no_grad():\n",
        "            self.model.eval()\n",
        "            _, predicted = torch.max(self.model(X), 1)\n",
        "            return predicted\n",
        "\n",
        "# Load dataset\n",
        "# Load dataset\n",
        "\n",
        "# Assuming the target column is the last column in the dataset\n",
        "target_column = data.columns[-1]\n",
        "\n",
        "for i in range(2, 11):\n",
        "    print(f\"Quantizing target column into {i} levels...\")\n",
        "    quantized_target = pd.qcut(data[target_column], i, labels=False, duplicates='drop')  # Adjusted to handle duplicate bin edges\n",
        "    X = data.iloc[:, :-1].values\n",
        "    y = quantized_target.values\n",
        "\n",
        "    # Splitting the data into train and test sets\n",
        "    X_train, X_test, y_train, y_test = train_test_split(X, y, test_size=0.2, random_state=42)\n",
        "\n",
        "    # Normalize the features using the mean and standard deviation of the training set\n",
        "    scaler = StandardScaler()\n",
        "    X_train = scaler.fit_transform(X_train)\n",
        "    X_test = scaler.transform(X_test)\n",
        "\n",
        "    # Convert to PyTorch tensors\n",
        "    X_train_tensor = torch.tensor(X_train, dtype=torch.float32)\n",
        "    y_train_tensor = torch.tensor(y_train, dtype=torch.long)\n",
        "\n",
        "    X_test_tensor = torch.tensor(X_test, dtype=torch.float32)\n",
        "\n",
        "    # Initialize and train the model\n",
        "    input_dim = X_train.shape[1]\n",
        "    output_dim = i\n",
        "    model = MyMultinomialLogisticRegression(input_dim, output_dim)\n",
        "    model.fit(X_train_tensor, y_train_tensor)\n",
        "\n",
        "    # Predictions\n",
        "    y_pred = model.predict(X_test_tensor)\n",
        "\n",
        "    # Calculate accuracy\n",
        "    accuracy = accuracy_score(y_test, y_pred.numpy())\n",
        "    print(f\"Accuracy for {i} levels: {accuracy}\")\n",
        "\n"
      ],
      "metadata": {
        "colab": {
          "base_uri": "https://localhost:8080/"
        },
        "id": "3D2KAoNdfErZ",
        "outputId": "6ad52e07-5f4b-4988-923b-f010e64c52f1"
      },
      "execution_count": 36,
      "outputs": [
        {
          "output_type": "stream",
          "name": "stdout",
          "text": [
            "Quantizing target column into 2 levels...\n",
            "Epoch 1/100, Loss: 0.8510392308235168\n",
            "Epoch 11/100, Loss: 0.789694607257843\n",
            "Epoch 21/100, Loss: 0.7335090041160583\n",
            "Epoch 31/100, Loss: 0.6821690201759338\n",
            "Epoch 41/100, Loss: 0.635343611240387\n",
            "Epoch 51/100, Loss: 0.5926943421363831\n",
            "Epoch 61/100, Loss: 0.5538826584815979\n",
            "Epoch 71/100, Loss: 0.5185773372650146\n",
            "Epoch 81/100, Loss: 0.4864601492881775\n",
            "Epoch 91/100, Loss: 0.4572303593158722\n",
            "Accuracy for 2 levels: 0.9345\n",
            "Quantizing target column into 3 levels...\n",
            "Epoch 1/100, Loss: 1.1595712900161743\n",
            "Epoch 11/100, Loss: 1.0904912948608398\n",
            "Epoch 21/100, Loss: 1.0255450010299683\n",
            "Epoch 31/100, Loss: 0.9646261930465698\n",
            "Epoch 41/100, Loss: 0.9076095819473267\n",
            "Epoch 51/100, Loss: 0.8543539643287659\n",
            "Epoch 61/100, Loss: 0.804702877998352\n",
            "Epoch 71/100, Loss: 0.7584881782531738\n",
            "Epoch 81/100, Loss: 0.7155327200889587\n",
            "Epoch 91/100, Loss: 0.6756531596183777\n",
            "Accuracy for 3 levels: 0.797\n",
            "Quantizing target column into 4 levels...\n",
            "Epoch 1/100, Loss: 1.476307988166809\n",
            "Epoch 11/100, Loss: 1.4019346237182617\n",
            "Epoch 21/100, Loss: 1.3308600187301636\n",
            "Epoch 31/100, Loss: 1.2630555629730225\n",
            "Epoch 41/100, Loss: 1.1984816789627075\n",
            "Epoch 51/100, Loss: 1.1370892524719238\n",
            "Epoch 61/100, Loss: 1.0788185596466064\n",
            "Epoch 71/100, Loss: 1.0236009359359741\n",
            "Epoch 81/100, Loss: 0.9713574647903442\n",
            "Epoch 91/100, Loss: 0.9220010042190552\n",
            "Accuracy for 4 levels: 0.8445\n",
            "Quantizing target column into 5 levels...\n",
            "Epoch 1/100, Loss: 1.3901985883712769\n",
            "Epoch 11/100, Loss: 1.3222618103027344\n",
            "Epoch 21/100, Loss: 1.2573513984680176\n",
            "Epoch 31/100, Loss: 1.1954363584518433\n",
            "Epoch 41/100, Loss: 1.1364773511886597\n",
            "Epoch 51/100, Loss: 1.0804235935211182\n",
            "Epoch 61/100, Loss: 1.0272154808044434\n",
            "Epoch 71/100, Loss: 0.9767840504646301\n",
            "Epoch 81/100, Loss: 0.9290521144866943\n",
            "Epoch 91/100, Loss: 0.8839344382286072\n",
            "Accuracy for 5 levels: 0.847\n",
            "Quantizing target column into 6 levels...\n",
            "Epoch 1/100, Loss: 2.062035083770752\n",
            "Epoch 11/100, Loss: 1.9685146808624268\n",
            "Epoch 21/100, Loss: 1.8778597116470337\n",
            "Epoch 31/100, Loss: 1.790175199508667\n",
            "Epoch 41/100, Loss: 1.705552577972412\n",
            "Epoch 51/100, Loss: 1.6240674257278442\n",
            "Epoch 61/100, Loss: 1.545778751373291\n",
            "Epoch 71/100, Loss: 1.470727801322937\n",
            "Epoch 81/100, Loss: 1.3989354372024536\n",
            "Epoch 91/100, Loss: 1.3304046392440796\n",
            "Accuracy for 6 levels: 0.684\n",
            "Quantizing target column into 7 levels...\n",
            "Epoch 1/100, Loss: 1.8447223901748657\n",
            "Epoch 11/100, Loss: 1.7656077146530151\n",
            "Epoch 21/100, Loss: 1.6890149116516113\n",
            "Epoch 31/100, Loss: 1.6149780750274658\n",
            "Epoch 41/100, Loss: 1.543522834777832\n",
            "Epoch 51/100, Loss: 1.4746662378311157\n",
            "Epoch 61/100, Loss: 1.4084179401397705\n",
            "Epoch 71/100, Loss: 1.344778299331665\n",
            "Epoch 81/100, Loss: 1.283738374710083\n",
            "Epoch 91/100, Loss: 1.2252815961837769\n",
            "Accuracy for 7 levels: 0.8095\n",
            "Quantizing target column into 8 levels...\n",
            "Epoch 1/100, Loss: 2.181884527206421\n",
            "Epoch 11/100, Loss: 2.09224009513855\n",
            "Epoch 21/100, Loss: 2.005018949508667\n",
            "Epoch 31/100, Loss: 1.9202873706817627\n",
            "Epoch 41/100, Loss: 1.8381046056747437\n",
            "Epoch 51/100, Loss: 1.758520483970642\n",
            "Epoch 61/100, Loss: 1.681576132774353\n",
            "Epoch 71/100, Loss: 1.6073037385940552\n",
            "Epoch 81/100, Loss: 1.5357249975204468\n",
            "Epoch 91/100, Loss: 1.466852068901062\n",
            "Accuracy for 8 levels: 0.6285\n",
            "Quantizing target column into 9 levels...\n",
            "Epoch 1/100, Loss: 2.481912612915039\n",
            "Epoch 11/100, Loss: 2.3851702213287354\n",
            "Epoch 21/100, Loss: 2.2904844284057617\n",
            "Epoch 31/100, Loss: 2.1979551315307617\n",
            "Epoch 41/100, Loss: 2.1076791286468506\n",
            "Epoch 51/100, Loss: 2.0197484493255615\n",
            "Epoch 61/100, Loss: 1.9342482089996338\n",
            "Epoch 71/100, Loss: 1.8512576818466187\n",
            "Epoch 81/100, Loss: 1.7708461284637451\n",
            "Epoch 91/100, Loss: 1.693074107170105\n",
            "Accuracy for 9 levels: 0.465\n",
            "Quantizing target column into 10 levels...\n",
            "Epoch 1/100, Loss: 2.1753077507019043\n",
            "Epoch 11/100, Loss: 2.0895307064056396\n",
            "Epoch 21/100, Loss: 2.005917549133301\n",
            "Epoch 31/100, Loss: 1.9245283603668213\n",
            "Epoch 41/100, Loss: 1.845417857170105\n",
            "Epoch 51/100, Loss: 1.7686351537704468\n",
            "Epoch 61/100, Loss: 1.6942230463027954\n",
            "Epoch 71/100, Loss: 1.6222171783447266\n",
            "Epoch 81/100, Loss: 1.5526448488235474\n",
            "Epoch 91/100, Loss: 1.4855265617370605\n",
            "Accuracy for 10 levels: 0.626\n"
          ]
        }
      ]
    },
    {
      "cell_type": "code",
      "source": [
        "# Load dataset\n",
        "\n",
        "# Assuming the target column is the last column in the dataset\n",
        "target_column = data.columns[-1]\n",
        "\n",
        "for i in range(2, 11):\n",
        "    print(f\"Quantizing target column into {i} levels...\")\n",
        "    quantized_target = pd.qcut(data[target_column], i, labels=False, duplicates='drop')  # Adjusted to handle duplicate bin edges\n",
        "    X = data.iloc[:, :-1].values\n",
        "    y = quantized_target.values\n",
        "\n",
        "    # Splitting the data into train and test sets\n",
        "    X_train, X_test, y_train, y_test = train_test_split(X, y, test_size=0.2, random_state=42)\n",
        "\n",
        "    # Normalize the features using the mean and standard deviation of the training set\n",
        "    scaler = StandardScaler()\n",
        "    X_train = scaler.fit_transform(X_train)\n",
        "    X_test = scaler.transform(X_test)\n",
        "\n",
        "    # Convert to PyTorch tensors\n",
        "    X_train_tensor = torch.tensor(X_train, dtype=torch.float32)\n",
        "    y_train_tensor = torch.tensor(y_train, dtype=torch.long)\n",
        "\n",
        "    X_test_tensor = torch.tensor(X_test, dtype=torch.float32)\n",
        "\n",
        "    # Initialize and train the model\n",
        "    input_dim = X_train.shape[1]\n",
        "    output_dim = i\n",
        "    model = MyMultinomialLogisticRegression(input_dim, output_dim)\n",
        "    model.fit(X_train_tensor, y_train_tensor, epochs=200)  # Increased epochs to 1000\n",
        "\n",
        "    # Predictions\n",
        "    y_pred = model.predict(X_test_tensor)\n",
        "\n",
        "    # Calculate accuracy\n",
        "    accuracy = accuracy_score(y_test, y_pred.numpy())\n",
        "    print(f\"Accuracy for {i} levels: {accuracy}\")\n"
      ],
      "metadata": {
        "colab": {
          "base_uri": "https://localhost:8080/"
        },
        "id": "O4OoGiXSfouQ",
        "outputId": "696b90d8-73b4-4628-a938-c7ed52da6ffd"
      },
      "execution_count": 37,
      "outputs": [
        {
          "output_type": "stream",
          "name": "stdout",
          "text": [
            "Quantizing target column into 2 levels...\n",
            "Epoch 1/200, Loss: 0.4394930303096771\n",
            "Epoch 11/200, Loss: 0.41442081332206726\n",
            "Epoch 21/200, Loss: 0.39153745770454407\n",
            "Epoch 31/200, Loss: 0.37062183022499084\n",
            "Epoch 41/200, Loss: 0.3514743447303772\n",
            "Epoch 51/200, Loss: 0.33391496539115906\n",
            "Epoch 61/200, Loss: 0.3177827000617981\n",
            "Epoch 71/200, Loss: 0.30293360352516174\n",
            "Epoch 81/200, Loss: 0.28923946619033813\n",
            "Epoch 91/200, Loss: 0.2765859365463257\n",
            "Epoch 101/200, Loss: 0.2648714482784271\n",
            "Epoch 111/200, Loss: 0.25400567054748535\n",
            "Epoch 121/200, Loss: 0.24390797317028046\n",
            "Epoch 131/200, Loss: 0.23450689017772675\n",
            "Epoch 141/200, Loss: 0.22573862969875336\n",
            "Epoch 151/200, Loss: 0.2175462394952774\n",
            "Epoch 161/200, Loss: 0.2098788470029831\n",
            "Epoch 171/200, Loss: 0.20269104838371277\n",
            "Epoch 181/200, Loss: 0.19594219326972961\n",
            "Epoch 191/200, Loss: 0.18959563970565796\n",
            "Accuracy for 2 levels: 1.0\n",
            "Quantizing target column into 3 levels...\n",
            "Epoch 1/200, Loss: 1.247334599494934\n",
            "Epoch 11/200, Loss: 1.176951289176941\n",
            "Epoch 21/200, Loss: 1.1103790998458862\n",
            "Epoch 31/200, Loss: 1.0475436449050903\n",
            "Epoch 41/200, Loss: 0.9883553981781006\n",
            "Epoch 51/200, Loss: 0.9327098727226257\n",
            "Epoch 61/200, Loss: 0.8804897665977478\n",
            "Epoch 71/200, Loss: 0.8315662145614624\n",
            "Epoch 81/200, Loss: 0.7858004570007324\n",
            "Epoch 91/200, Loss: 0.7430459260940552\n",
            "Epoch 101/200, Loss: 0.7031497359275818\n",
            "Epoch 111/200, Loss: 0.665956437587738\n",
            "Epoch 121/200, Loss: 0.6313085556030273\n",
            "Epoch 131/200, Loss: 0.5990492701530457\n",
            "Epoch 141/200, Loss: 0.5690240263938904\n",
            "Epoch 151/200, Loss: 0.5410824418067932\n",
            "Epoch 161/200, Loss: 0.515079140663147\n",
            "Epoch 171/200, Loss: 0.4908747375011444\n",
            "Epoch 181/200, Loss: 0.46833670139312744\n",
            "Epoch 191/200, Loss: 0.44734010100364685\n",
            "Accuracy for 3 levels: 1.0\n",
            "Quantizing target column into 4 levels...\n",
            "Epoch 1/200, Loss: 1.5976228713989258\n",
            "Epoch 11/200, Loss: 1.5097496509552002\n",
            "Epoch 21/200, Loss: 1.4261820316314697\n",
            "Epoch 31/200, Loss: 1.3469125032424927\n",
            "Epoch 41/200, Loss: 1.2719048261642456\n",
            "Epoch 51/200, Loss: 1.2010949850082397\n",
            "Epoch 61/200, Loss: 1.1343942880630493\n",
            "Epoch 71/200, Loss: 1.071690559387207\n",
            "Epoch 81/200, Loss: 1.0128509998321533\n",
            "Epoch 91/200, Loss: 0.9577262997627258\n",
            "Epoch 101/200, Loss: 0.9061543941497803\n",
            "Epoch 111/200, Loss: 0.8579626083374023\n",
            "Epoch 121/200, Loss: 0.8129721879959106\n",
            "Epoch 131/200, Loss: 0.7710011005401611\n",
            "Epoch 141/200, Loss: 0.7318673133850098\n",
            "Epoch 151/200, Loss: 0.6953903436660767\n",
            "Epoch 161/200, Loss: 0.6613943576812744\n",
            "Epoch 171/200, Loss: 0.6297090649604797\n",
            "Epoch 181/200, Loss: 0.6001711487770081\n",
            "Epoch 191/200, Loss: 0.5726258754730225\n",
            "Accuracy for 4 levels: 1.0\n",
            "Quantizing target column into 5 levels...\n",
            "Epoch 1/200, Loss: 1.2757315635681152\n",
            "Epoch 11/200, Loss: 1.2130143642425537\n",
            "Epoch 21/200, Loss: 1.1531994342803955\n",
            "Epoch 31/200, Loss: 1.0962421894073486\n",
            "Epoch 41/200, Loss: 1.0420905351638794\n",
            "Epoch 51/200, Loss: 0.9906847476959229\n",
            "Epoch 61/200, Loss: 0.9419567584991455\n",
            "Epoch 71/200, Loss: 0.8958318829536438\n",
            "Epoch 81/200, Loss: 0.852228581905365\n",
            "Epoch 91/200, Loss: 0.8110592365264893\n",
            "Epoch 101/200, Loss: 0.7722315788269043\n",
            "Epoch 111/200, Loss: 0.735649049282074\n",
            "Epoch 121/200, Loss: 0.7012119889259338\n",
            "Epoch 131/200, Loss: 0.668819010257721\n",
            "Epoch 141/200, Loss: 0.638367235660553\n",
            "Epoch 151/200, Loss: 0.6097540259361267\n",
            "Epoch 161/200, Loss: 0.5828775763511658\n",
            "Epoch 171/200, Loss: 0.557637631893158\n",
            "Epoch 181/200, Loss: 0.5339364409446716\n",
            "Epoch 191/200, Loss: 0.5116793513298035\n",
            "Accuracy for 5 levels: 0.9845\n",
            "Quantizing target column into 6 levels...\n",
            "Epoch 1/200, Loss: 1.4443515539169312\n",
            "Epoch 11/200, Loss: 1.3746824264526367\n",
            "Epoch 21/200, Loss: 1.3081306219100952\n",
            "Epoch 31/200, Loss: 1.2446720600128174\n",
            "Epoch 41/200, Loss: 1.1842684745788574\n",
            "Epoch 51/200, Loss: 1.1268670558929443\n",
            "Epoch 61/200, Loss: 1.0724035501480103\n",
            "Epoch 71/200, Loss: 1.0208014249801636\n",
            "Epoch 81/200, Loss: 0.9719752669334412\n",
            "Epoch 91/200, Loss: 0.9258306622505188\n",
            "Epoch 101/200, Loss: 0.8822661638259888\n",
            "Epoch 111/200, Loss: 0.8411755561828613\n",
            "Epoch 121/200, Loss: 0.8024484515190125\n",
            "Epoch 131/200, Loss: 0.765972375869751\n",
            "Epoch 141/200, Loss: 0.7316337823867798\n",
            "Epoch 151/200, Loss: 0.6993191242218018\n",
            "Epoch 161/200, Loss: 0.6689168214797974\n",
            "Epoch 171/200, Loss: 0.6403166651725769\n",
            "Epoch 181/200, Loss: 0.613412082195282\n",
            "Epoch 191/200, Loss: 0.588100016117096\n",
            "Accuracy for 6 levels: 1.0\n",
            "Quantizing target column into 7 levels...\n",
            "Epoch 1/200, Loss: 2.612617254257202\n",
            "Epoch 11/200, Loss: 2.5104708671569824\n",
            "Epoch 21/200, Loss: 2.410317897796631\n",
            "Epoch 31/200, Loss: 2.3122758865356445\n",
            "Epoch 41/200, Loss: 2.2164597511291504\n",
            "Epoch 51/200, Loss: 2.1229820251464844\n",
            "Epoch 61/200, Loss: 2.0319488048553467\n",
            "Epoch 71/200, Loss: 1.943461298942566\n",
            "Epoch 81/200, Loss: 1.8576112985610962\n",
            "Epoch 91/200, Loss: 1.7744815349578857\n",
            "Epoch 101/200, Loss: 1.6941423416137695\n",
            "Epoch 111/200, Loss: 1.6166529655456543\n",
            "Epoch 121/200, Loss: 1.5420584678649902\n",
            "Epoch 131/200, Loss: 1.47038996219635\n",
            "Epoch 141/200, Loss: 1.401663899421692\n",
            "Epoch 151/200, Loss: 1.3358818292617798\n",
            "Epoch 161/200, Loss: 1.2730309963226318\n",
            "Epoch 171/200, Loss: 1.2130837440490723\n",
            "Epoch 181/200, Loss: 1.1560001373291016\n",
            "Epoch 191/200, Loss: 1.1017261743545532\n",
            "Accuracy for 7 levels: 0.9185\n",
            "Quantizing target column into 8 levels...\n",
            "Epoch 1/200, Loss: 2.0010242462158203\n",
            "Epoch 11/200, Loss: 1.9169394969940186\n",
            "Epoch 21/200, Loss: 1.8353101015090942\n",
            "Epoch 31/200, Loss: 1.756195306777954\n",
            "Epoch 41/200, Loss: 1.6796470880508423\n",
            "Epoch 51/200, Loss: 1.605706810951233\n",
            "Epoch 61/200, Loss: 1.5344064235687256\n",
            "Epoch 71/200, Loss: 1.4657678604125977\n",
            "Epoch 81/200, Loss: 1.3998022079467773\n",
            "Epoch 91/200, Loss: 1.3365100622177124\n",
            "Epoch 101/200, Loss: 1.275880217552185\n",
            "Epoch 111/200, Loss: 1.2178926467895508\n",
            "Epoch 121/200, Loss: 1.1625157594680786\n",
            "Epoch 131/200, Loss: 1.1097084283828735\n",
            "Epoch 141/200, Loss: 1.0594208240509033\n",
            "Epoch 151/200, Loss: 1.0115939378738403\n",
            "Epoch 161/200, Loss: 0.9661619067192078\n",
            "Epoch 171/200, Loss: 0.9230520129203796\n",
            "Epoch 181/200, Loss: 0.8821859955787659\n",
            "Epoch 191/200, Loss: 0.84348064661026\n",
            "Accuracy for 8 levels: 0.998\n",
            "Quantizing target column into 9 levels...\n",
            "Epoch 1/200, Loss: 2.4662156105041504\n",
            "Epoch 11/200, Loss: 2.3698019981384277\n",
            "Epoch 21/200, Loss: 2.2754056453704834\n",
            "Epoch 31/200, Loss: 2.183133602142334\n",
            "Epoch 41/200, Loss: 2.0930893421173096\n",
            "Epoch 51/200, Loss: 2.0053720474243164\n",
            "Epoch 61/200, Loss: 1.920073390007019\n",
            "Epoch 71/200, Loss: 1.837278962135315\n",
            "Epoch 81/200, Loss: 1.757063627243042\n",
            "Epoch 91/200, Loss: 1.6794930696487427\n",
            "Epoch 101/200, Loss: 1.604621410369873\n",
            "Epoch 111/200, Loss: 1.5324901342391968\n",
            "Epoch 121/200, Loss: 1.4631272554397583\n",
            "Epoch 131/200, Loss: 1.3965486288070679\n",
            "Epoch 141/200, Loss: 1.332755446434021\n",
            "Epoch 151/200, Loss: 1.271736741065979\n",
            "Epoch 161/200, Loss: 1.2134666442871094\n",
            "Epoch 171/200, Loss: 1.1579090356826782\n",
            "Epoch 181/200, Loss: 1.1050153970718384\n",
            "Epoch 191/200, Loss: 1.054726004600525\n",
            "Accuracy for 9 levels: 0.9745\n",
            "Quantizing target column into 10 levels...\n",
            "Epoch 1/200, Loss: 2.157153844833374\n",
            "Epoch 11/200, Loss: 2.071748733520508\n",
            "Epoch 21/200, Loss: 1.9885332584381104\n",
            "Epoch 31/200, Loss: 1.9075721502304077\n",
            "Epoch 41/200, Loss: 1.8289231061935425\n",
            "Epoch 51/200, Loss: 1.752636194229126\n",
            "Epoch 61/200, Loss: 1.6787543296813965\n",
            "Epoch 71/200, Loss: 1.6073110103607178\n",
            "Epoch 81/200, Loss: 1.538332462310791\n",
            "Epoch 91/200, Loss: 1.4718362092971802\n",
            "Epoch 101/200, Loss: 1.4078289270401\n",
            "Epoch 111/200, Loss: 1.3463107347488403\n",
            "Epoch 121/200, Loss: 1.287271499633789\n",
            "Epoch 131/200, Loss: 1.2306921482086182\n",
            "Epoch 141/200, Loss: 1.1765459775924683\n",
            "Epoch 151/200, Loss: 1.1247975826263428\n",
            "Epoch 161/200, Loss: 1.075404167175293\n",
            "Epoch 171/200, Loss: 1.0283156633377075\n",
            "Epoch 181/200, Loss: 0.9834755063056946\n",
            "Epoch 191/200, Loss: 0.9408215880393982\n",
            "Accuracy for 10 levels: 0.996\n"
          ]
        }
      ]
    },
    {
      "cell_type": "markdown",
      "metadata": {
        "id": "Of2sHl5Z4dXi"
      },
      "source": [
        "**Question:** Report for which $i$ your model performs best. Describe and analyze the results! You could use visualizations or any other method!"
      ]
    },
    {
      "cell_type": "code",
      "source": [
        "import matplotlib.pyplot as plt\n",
        "\n",
        "# Load dataset\n",
        "\n",
        "# Assuming the target column is the last column in the dataset\n",
        "target_column = data.columns[-1]\n",
        "\n",
        "accuracy_scores = []\n",
        "\n",
        "for i in range(2, 11):\n",
        "    quantized_target = pd.qcut(data[target_column], i, labels=False, duplicates='drop')  # Adjusted to handle duplicate bin edges\n",
        "    X = data.iloc[:, :-1].values\n",
        "    y = quantized_target.values\n",
        "\n",
        "    # Splitting the data into train and test sets\n",
        "    X_train, X_test, y_train, y_test = train_test_split(X, y, test_size=0.2, random_state=42)\n",
        "\n",
        "    # Normalize the features using the mean and standard deviation of the training set\n",
        "    scaler = StandardScaler()\n",
        "    X_train = scaler.fit_transform(X_train)\n",
        "    X_test = scaler.transform(X_test)\n",
        "\n",
        "    # Convert to PyTorch tensors\n",
        "    X_train_tensor = torch.tensor(X_train, dtype=torch.float32)\n",
        "    y_train_tensor = torch.tensor(y_train, dtype=torch.long)\n",
        "\n",
        "    X_test_tensor = torch.tensor(X_test, dtype=torch.float32)\n",
        "\n",
        "    # Initialize and train the model\n",
        "    input_dim = X_train.shape[1]\n",
        "    output_dim = i\n",
        "    model = MyMultinomialLogisticRegression(input_dim, output_dim)\n",
        "    model.fit(X_train_tensor, y_train_tensor, epochs=200)  # Increased epochs to 1000\n",
        "\n",
        "    # Predictions\n",
        "    y_pred = model.predict(X_test_tensor)\n",
        "\n",
        "    # Calculate accuracy\n",
        "    accuracy = accuracy_score(y_test, y_pred.numpy())\n",
        "    accuracy_scores.append(accuracy)\n",
        "\n",
        "# Plotting the accuracy scores\n",
        "plt.figure(figsize=(10, 6))\n",
        "plt.plot(range(2, 11), accuracy_scores, marker='o', linestyle='-')\n",
        "plt.title('Accuracy vs. Number of Levels (i)')\n",
        "plt.xlabel('Number of Levels (i)')\n",
        "plt.ylabel('Accuracy')\n",
        "plt.grid(True)\n",
        "plt.show()\n",
        "\n",
        "# Find the index of the maximum accuracy score\n",
        "best_i_index = accuracy_scores.index(max(accuracy_scores))\n",
        "best_i = best_i_index + 2  # Increment index by 2 to account for starting from 2\n",
        "best_accuracy = accuracy_scores[best_i_index]\n",
        "\n",
        "print(f\"The model performs best for i = {best_i} with an accuracy of {best_accuracy:.4f}\")\n"
      ],
      "metadata": {
        "colab": {
          "base_uri": "https://localhost:8080/",
          "height": 1000
        },
        "id": "lA9sytCDgGaz",
        "outputId": "15c5f0de-2056-4d3c-ac76-64e8970220fc"
      },
      "execution_count": 38,
      "outputs": [
        {
          "output_type": "stream",
          "name": "stdout",
          "text": [
            "Epoch 1/200, Loss: 0.844975471496582\n",
            "Epoch 11/200, Loss: 0.7871277332305908\n",
            "Epoch 21/200, Loss: 0.7332953810691833\n",
            "Epoch 31/200, Loss: 0.6833488941192627\n",
            "Epoch 41/200, Loss: 0.6371359825134277\n",
            "Epoch 51/200, Loss: 0.5944862961769104\n",
            "Epoch 61/200, Loss: 0.5552138090133667\n",
            "Epoch 71/200, Loss: 0.5191212296485901\n",
            "Epoch 81/200, Loss: 0.48600393533706665\n",
            "Epoch 91/200, Loss: 0.4556543529033661\n",
            "Epoch 101/200, Loss: 0.42786550521850586\n",
            "Epoch 111/200, Loss: 0.40243443846702576\n",
            "Epoch 121/200, Loss: 0.3791649341583252\n",
            "Epoch 131/200, Loss: 0.3578701615333557\n",
            "Epoch 141/200, Loss: 0.33837342262268066\n",
            "Epoch 151/200, Loss: 0.32050999999046326\n",
            "Epoch 161/200, Loss: 0.3041275143623352\n",
            "Epoch 171/200, Loss: 0.2890855073928833\n",
            "Epoch 181/200, Loss: 0.2752561569213867\n",
            "Epoch 191/200, Loss: 0.26252293586730957\n",
            "Epoch 1/200, Loss: 0.927702009677887\n",
            "Epoch 11/200, Loss: 0.8708921670913696\n",
            "Epoch 21/200, Loss: 0.818280041217804\n",
            "Epoch 31/200, Loss: 0.7696250081062317\n",
            "Epoch 41/200, Loss: 0.7246796488761902\n",
            "Epoch 51/200, Loss: 0.6831936240196228\n",
            "Epoch 61/200, Loss: 0.6449195146560669\n",
            "Epoch 71/200, Loss: 0.6096150279045105\n",
            "Epoch 81/200, Loss: 0.5770473480224609\n",
            "Epoch 91/200, Loss: 0.5469943284988403\n",
            "Epoch 101/200, Loss: 0.5192465782165527\n",
            "Epoch 111/200, Loss: 0.49360865354537964\n",
            "Epoch 121/200, Loss: 0.469898521900177\n",
            "Epoch 131/200, Loss: 0.44794878363609314\n",
            "Epoch 141/200, Loss: 0.4276055097579956\n",
            "Epoch 151/200, Loss: 0.40872788429260254\n",
            "Epoch 161/200, Loss: 0.3911876976490021\n",
            "Epoch 171/200, Loss: 0.3748683035373688\n",
            "Epoch 181/200, Loss: 0.3596639633178711\n",
            "Epoch 191/200, Loss: 0.34547871351242065\n",
            "Epoch 1/200, Loss: 1.2301537990570068\n",
            "Epoch 11/200, Loss: 1.1674225330352783\n",
            "Epoch 21/200, Loss: 1.1077415943145752\n",
            "Epoch 31/200, Loss: 1.0510587692260742\n",
            "Epoch 41/200, Loss: 0.9973128437995911\n",
            "Epoch 51/200, Loss: 0.9464334845542908\n",
            "Epoch 61/200, Loss: 0.8983418345451355\n",
            "Epoch 71/200, Loss: 0.852950930595398\n",
            "Epoch 81/200, Loss: 0.8101668357849121\n",
            "Epoch 91/200, Loss: 0.7698896527290344\n",
            "Epoch 101/200, Loss: 0.7320139408111572\n",
            "Epoch 111/200, Loss: 0.6964308023452759\n",
            "Epoch 121/200, Loss: 0.6630288362503052\n",
            "Epoch 131/200, Loss: 0.6316950917243958\n",
            "Epoch 141/200, Loss: 0.6023163795471191\n",
            "Epoch 151/200, Loss: 0.5747810006141663\n",
            "Epoch 161/200, Loss: 0.5489786267280579\n",
            "Epoch 171/200, Loss: 0.5248019695281982\n",
            "Epoch 181/200, Loss: 0.5021472573280334\n",
            "Epoch 191/200, Loss: 0.48091480135917664\n",
            "Epoch 1/200, Loss: 1.757703423500061\n",
            "Epoch 11/200, Loss: 1.6741600036621094\n",
            "Epoch 21/200, Loss: 1.5937581062316895\n",
            "Epoch 31/200, Loss: 1.5165218114852905\n",
            "Epoch 41/200, Loss: 1.4424631595611572\n",
            "Epoch 51/200, Loss: 1.3715802431106567\n",
            "Epoch 61/200, Loss: 1.3038591146469116\n",
            "Epoch 71/200, Loss: 1.2392737865447998\n",
            "Epoch 81/200, Loss: 1.1777846813201904\n",
            "Epoch 91/200, Loss: 1.1193416118621826\n",
            "Epoch 101/200, Loss: 1.0638819932937622\n",
            "Epoch 111/200, Loss: 1.0113341808319092\n",
            "Epoch 121/200, Loss: 0.9616162180900574\n",
            "Epoch 131/200, Loss: 0.9146378636360168\n",
            "Epoch 141/200, Loss: 0.8703020215034485\n",
            "Epoch 151/200, Loss: 0.8285049200057983\n",
            "Epoch 161/200, Loss: 0.7891387939453125\n",
            "Epoch 171/200, Loss: 0.752092182636261\n",
            "Epoch 181/200, Loss: 0.7172518968582153\n",
            "Epoch 191/200, Loss: 0.684503972530365\n",
            "Epoch 1/200, Loss: 2.1644656658172607\n",
            "Epoch 11/200, Loss: 2.067941904067993\n",
            "Epoch 21/200, Loss: 1.974244475364685\n",
            "Epoch 31/200, Loss: 1.88347327709198\n",
            "Epoch 41/200, Loss: 1.7957165241241455\n",
            "Epoch 51/200, Loss: 1.7110493183135986\n",
            "Epoch 61/200, Loss: 1.6295329332351685\n",
            "Epoch 71/200, Loss: 1.551213264465332\n",
            "Epoch 81/200, Loss: 1.4761192798614502\n",
            "Epoch 91/200, Loss: 1.4042633771896362\n",
            "Epoch 101/200, Loss: 1.3356411457061768\n",
            "Epoch 111/200, Loss: 1.270231008529663\n",
            "Epoch 121/200, Loss: 1.207996129989624\n",
            "Epoch 131/200, Loss: 1.1488832235336304\n",
            "Epoch 141/200, Loss: 1.0928256511688232\n",
            "Epoch 151/200, Loss: 1.0397443771362305\n",
            "Epoch 161/200, Loss: 0.9895488619804382\n",
            "Epoch 171/200, Loss: 0.9421396851539612\n",
            "Epoch 181/200, Loss: 0.8974096775054932\n",
            "Epoch 191/200, Loss: 0.8552463054656982\n",
            "Epoch 1/200, Loss: 1.6573359966278076\n",
            "Epoch 11/200, Loss: 1.580810308456421\n",
            "Epoch 21/200, Loss: 1.5072762966156006\n",
            "Epoch 31/200, Loss: 1.4367376565933228\n",
            "Epoch 41/200, Loss: 1.3691853284835815\n",
            "Epoch 51/200, Loss: 1.3045992851257324\n",
            "Epoch 61/200, Loss: 1.2429476976394653\n",
            "Epoch 71/200, Loss: 1.1841881275177002\n",
            "Epoch 81/200, Loss: 1.1282669305801392\n",
            "Epoch 91/200, Loss: 1.0751218795776367\n",
            "Epoch 101/200, Loss: 1.0246812105178833\n",
            "Epoch 111/200, Loss: 0.9768651723861694\n",
            "Epoch 121/200, Loss: 0.9315882325172424\n",
            "Epoch 131/200, Loss: 0.8887584805488586\n",
            "Epoch 141/200, Loss: 0.8482799530029297\n",
            "Epoch 151/200, Loss: 0.8100531101226807\n",
            "Epoch 161/200, Loss: 0.7739766240119934\n",
            "Epoch 171/200, Loss: 0.7399476170539856\n",
            "Epoch 181/200, Loss: 0.7078633904457092\n",
            "Epoch 191/200, Loss: 0.6776221990585327\n",
            "Epoch 1/200, Loss: 2.173445701599121\n",
            "Epoch 11/200, Loss: 2.0861635208129883\n",
            "Epoch 21/200, Loss: 2.0011229515075684\n",
            "Epoch 31/200, Loss: 1.9183872938156128\n",
            "Epoch 41/200, Loss: 1.8380134105682373\n",
            "Epoch 51/200, Loss: 1.7600523233413696\n",
            "Epoch 61/200, Loss: 1.6845470666885376\n",
            "Epoch 71/200, Loss: 1.6115338802337646\n",
            "Epoch 81/200, Loss: 1.5410404205322266\n",
            "Epoch 91/200, Loss: 1.4730865955352783\n",
            "Epoch 101/200, Loss: 1.407683253288269\n",
            "Epoch 111/200, Loss: 1.344832420349121\n",
            "Epoch 121/200, Loss: 1.2845271825790405\n",
            "Epoch 131/200, Loss: 1.2267520427703857\n",
            "Epoch 141/200, Loss: 1.1714826822280884\n",
            "Epoch 151/200, Loss: 1.1186857223510742\n",
            "Epoch 161/200, Loss: 1.0683200359344482\n",
            "Epoch 171/200, Loss: 1.0203369855880737\n",
            "Epoch 181/200, Loss: 0.9746799468994141\n",
            "Epoch 191/200, Loss: 0.9312868118286133\n",
            "Epoch 1/200, Loss: 2.607807159423828\n",
            "Epoch 11/200, Loss: 2.511057138442993\n",
            "Epoch 21/200, Loss: 2.416266918182373\n",
            "Epoch 31/200, Loss: 2.323514938354492\n",
            "Epoch 41/200, Loss: 2.232877492904663\n",
            "Epoch 51/200, Loss: 2.1444251537323\n",
            "Epoch 61/200, Loss: 2.05822491645813\n",
            "Epoch 71/200, Loss: 1.9743379354476929\n",
            "Epoch 81/200, Loss: 1.8928186893463135\n",
            "Epoch 91/200, Loss: 1.8137155771255493\n",
            "Epoch 101/200, Loss: 1.737069010734558\n",
            "Epoch 111/200, Loss: 1.6629133224487305\n",
            "Epoch 121/200, Loss: 1.5912730693817139\n",
            "Epoch 131/200, Loss: 1.5221660137176514\n",
            "Epoch 141/200, Loss: 1.4556009769439697\n",
            "Epoch 151/200, Loss: 1.3915784358978271\n",
            "Epoch 161/200, Loss: 1.3300907611846924\n",
            "Epoch 171/200, Loss: 1.2711212635040283\n",
            "Epoch 181/200, Loss: 1.2146459817886353\n",
            "Epoch 191/200, Loss: 1.1606323719024658\n",
            "Epoch 1/200, Loss: 2.501343250274658\n",
            "Epoch 11/200, Loss: 2.4058053493499756\n",
            "Epoch 21/200, Loss: 2.312105417251587\n",
            "Epoch 31/200, Loss: 2.22035551071167\n",
            "Epoch 41/200, Loss: 2.1306662559509277\n",
            "Epoch 51/200, Loss: 2.043144464492798\n",
            "Epoch 61/200, Loss: 1.9578925371170044\n",
            "Epoch 71/200, Loss: 1.8750066757202148\n",
            "Epoch 81/200, Loss: 1.7945750951766968\n",
            "Epoch 91/200, Loss: 1.716675877571106\n",
            "Epoch 101/200, Loss: 1.6413766145706177\n",
            "Epoch 111/200, Loss: 1.5687315464019775\n",
            "Epoch 121/200, Loss: 1.4987828731536865\n",
            "Epoch 131/200, Loss: 1.4315580129623413\n",
            "Epoch 141/200, Loss: 1.367070198059082\n",
            "Epoch 151/200, Loss: 1.3053183555603027\n",
            "Epoch 161/200, Loss: 1.2462869882583618\n",
            "Epoch 171/200, Loss: 1.1899477243423462\n",
            "Epoch 181/200, Loss: 1.1362589597702026\n",
            "Epoch 191/200, Loss: 1.0851672887802124\n"
          ]
        },
        {
          "output_type": "display_data",
          "data": {
            "text/plain": [
              "<Figure size 1000x600 with 1 Axes>"
            ],
            "image/png": "[encoded data removed]"
          },
          "metadata": {}
        },
        {
          "output_type": "stream",
          "name": "stdout",
          "text": [
            "The model performs best for i = 3 with an accuracy of 1.0000\n"
          ]
        }
      ]
    },
    {
      "cell_type": "markdown",
      "metadata": {
        "id": "cRLERDAr4wnS"
      },
      "source": [
        "**Your answer:**"
      ]
    },
    {
      "cell_type": "markdown",
      "metadata": {
        "id": "wT43jGKV6CBZ"
      },
      "source": [
        "# Going a little further!"
      ]
    },
    {
      "cell_type": "markdown",
      "metadata": {
        "id": "Vo9uGo0R6GZo"
      },
      "source": [
        "First we download Adult income dataset from Kaggle! In order to do this create an account on this website, and create an API. A file named kaggle.json will be downloaded to your device. Then use the following code:"
      ]
    },
    {
      "cell_type": "code",
      "execution_count": null,
      "metadata": {
        "id": "o-vrjYBF7u1E"
      },
      "outputs": [],
      "source": [
        "from google.colab import files\n",
        "files.upload()  # Use this to select the kaggle.json file from your computer\n",
        "!mkdir -p ~/.kaggle\n",
        "!cp kaggle.json ~/.kaggle/\n",
        "!chmod 600 ~/.kaggle/kaggle.json"
      ]
    },
    {
      "cell_type": "markdown",
      "metadata": {
        "id": "5i6u6_1v8ftX"
      },
      "source": [
        "Then use this code to automatically download the dataset into Colab."
      ]
    },
    {
      "cell_type": "code",
      "execution_count": null,
      "metadata": {
        "id": "XjyVaVKF29Hx"
      },
      "outputs": [],
      "source": [
        "!kaggle datasets download -d wenruliu/adult-income-dataset\n",
        "!unzip /content/adult-income-dataset.zip"
      ]
    },
    {
      "cell_type": "code",
      "source": [
        "## Write your code here ##\n",
        "from google.colab import drive\n",
        "drive.mount('/content/drive')\n"
      ],
      "metadata": {
        "colab": {
          "base_uri": "https://localhost:8080/"
        },
        "id": "8C3iiGrDloKo",
        "outputId": "237d2f33-0249-42a0-923a-62953ba4215e"
      },
      "execution_count": 3,
      "outputs": [
        {
          "output_type": "stream",
          "name": "stdout",
          "text": [
            "Mounted at /content/drive\n"
          ]
        }
      ]
    },
    {
      "cell_type": "code",
      "source": [
        "from google.colab import files\n",
        "uploaded = files.upload()\n"
      ],
      "metadata": {
        "colab": {
          "base_uri": "https://localhost:8080/",
          "height": 73
        },
        "id": "uzHSevxTm0iD",
        "outputId": "6deb9bdd-3e0d-49da-aaf1-53a143a3e203"
      },
      "execution_count": 4,
      "outputs": [
        {
          "output_type": "display_data",
          "data": {
            "text/plain": [
              "<IPython.core.display.HTML object>"
            ],
            "text/html": [
              "\n",
              "     <input type=\"file\" id=\"files-a641a8f4-cb08-4f99-b174-b00fab16d06c\" name=\"files[]\" multiple disabled\n",
              "        style=\"border:none\" />\n",
              "     <output id=\"result-a641a8f4-cb08-4f99-b174-b00fab16d06c\">\n",
              "      Upload widget is only available when the cell has been executed in the\n",
              "      current browser session. Please rerun this cell to enable.\n",
              "      </output>\n",
              "      <script>// Copyright 2017 Google LLC\n",
              "//\n",
              "// Licensed under the Apache License, Version 2.0 (the \"License\");\n",
              "// you may not use this file except in compliance with the License.\n",
              "// You may obtain a copy of the License at\n",
              "//\n",
              "//      http://www.apache.org/licenses/LICENSE-2.0\n",
              "//\n",
              "// Unless required by applicable law or agreed to in writing, software\n",
              "// distributed under the License is distributed on an \"AS IS\" BASIS,\n",
              "// WITHOUT WARRANTIES OR CONDITIONS OF ANY KIND, either express or implied.\n",
              "// See the License for the specific language governing permissions and\n",
              "// limitations under the License.\n",
              "\n",
              "/**\n",
              " * @fileoverview Helpers for google.colab Python module.\n",
              " */\n",
              "(function(scope) {\n",
              "function span(text, styleAttributes = {}) {\n",
              "  const element = document.createElement('span');\n",
              "  element.textContent = text;\n",
              "  for (const key of Object.keys(styleAttributes)) {\n",
              "    element.style[key] = styleAttributes[key];\n",
              "  }\n",
              "  return element;\n",
              "}\n",
              "\n",
              "// Max number of bytes which will be uploaded at a time.\n",
              "const MAX_PAYLOAD_SIZE = 100 * 1024;\n",
              "\n",
              "function _uploadFiles(inputId, outputId) {\n",
              "  const steps = uploadFilesStep(inputId, outputId);\n",
              "  const outputElement = document.getElementById(outputId);\n",
              "  // Cache steps on the outputElement to make it available for the next call\n",
              "  // to uploadFilesContinue from Python.\n",
              "  outputElement.steps = steps;\n",
              "\n",
              "  return _uploadFilesContinue(outputId);\n",
              "}\n",
              "\n",
              "// This is roughly an async generator (not supported in the browser yet),\n",
              "// where there are multiple asynchronous steps and the Python side is going\n",
              "// to poll for completion of each step.\n",
              "// This uses a Promise to block the python side on completion of each step,\n",
              "// then passes the result of the previous step as the input to the next step.\n",
              "function _uploadFilesContinue(outputId) {\n",
              "  const outputElement = document.getElementById(outputId);\n",
              "  const steps = outputElement.steps;\n",
              "\n",
              "  const next = steps.next(outputElement.lastPromiseValue);\n",
              "  return Promise.resolve(next.value.promise).then((value) => {\n",
              "    // Cache the last promise value to make it available to the next\n",
              "    // step of the generator.\n",
              "    outputElement.lastPromiseValue = value;\n",
              "    return next.value.response;\n",
              "  });\n",
              "}\n",
              "\n",
              "/**\n",
              " * Generator function which is called between each async step of the upload\n",
              " * process.\n",
              " * @param {string} inputId Element ID of the input file picker element.\n",
              " * @param {string} outputId Element ID of the output display.\n",
              " * @return {!Iterable<!Object>} Iterable of next steps.\n",
              " */\n",
              "function* uploadFilesStep(inputId, outputId) {\n",
              "  const inputElement = document.getElementById(inputId);\n",
              "  inputElement.disabled = false;\n",
              "\n",
              "  const outputElement = document.getElementById(outputId);\n",
              "  outputElement.innerHTML = '';\n",
              "\n",
              "  const pickedPromise = new Promise((resolve) => {\n",
              "    inputElement.addEventListener('change', (e) => {\n",
              "      resolve(e.target.files);\n",
              "    });\n",
              "  });\n",
              "\n",
              "  const cancel = document.createElement('button');\n",
              "  inputElement.parentElement.appendChild(cancel);\n",
              "  cancel.textContent = 'Cancel upload';\n",
              "  const cancelPromise = new Promise((resolve) => {\n",
              "    cancel.onclick = () => {\n",
              "      resolve(null);\n",
              "    };\n",
              "  });\n",
              "\n",
              "  // Wait for the user to pick the files.\n",
              "  const files = yield {\n",
              "    promise: Promise.race([pickedPromise, cancelPromise]),\n",
              "    response: {\n",
              "      action: 'starting',\n",
              "    }\n",
              "  };\n",
              "\n",
              "  cancel.remove();\n",
              "\n",
              "  // Disable the input element since further picks are not allowed.\n",
              "  inputElement.disabled = true;\n",
              "\n",
              "  if (!files) {\n",
              "    return {\n",
              "      response: {\n",
              "        action: 'complete',\n",
              "      }\n",
              "    };\n",
              "  }\n",
              "\n",
              "  for (const file of files) {\n",
              "    const li = document.createElement('li');\n",
              "    li.append(span(file.name, {fontWeight: 'bold'}));\n",
              "    li.append(span(\n",
              "        `(${file.type || 'n/a'}) - ${file.size} bytes, ` +\n",
              "        `last modified: ${\n",
              "            file.lastModifiedDate ? file.lastModifiedDate.toLocaleDateString() :\n",
              "                                    'n/a'} - `));\n",
              "    const percent = span('0% done');\n",
              "    li.appendChild(percent);\n",
              "\n",
              "    outputElement.appendChild(li);\n",
              "\n",
              "    const fileDataPromise = new Promise((resolve) => {\n",
              "      const reader = new FileReader();\n",
              "      reader.onload = (e) => {\n",
              "        resolve(e.target.result);\n",
              "      };\n",
              "      reader.readAsArrayBuffer(file);\n",
              "    });\n",
              "    // Wait for the data to be ready.\n",
              "    let fileData = yield {\n",
              "      promise: fileDataPromise,\n",
              "      response: {\n",
              "        action: 'continue',\n",
              "      }\n",
              "    };\n",
              "\n",
              "    // Use a chunked sending to avoid message size limits. See b/62115660.\n",
              "    let position = 0;\n",
              "    do {\n",
              "      const length = Math.min(fileData.byteLength - position, MAX_PAYLOAD_SIZE);\n",
              "      const chunk = new Uint8Array(fileData, position, length);\n",
              "      position += length;\n",
              "\n",
              "      const base64 = btoa(String.fromCharCode.apply(null, chunk));\n",
              "      yield {\n",
              "        response: {\n",
              "          action: 'append',\n",
              "          file: file.name,\n",
              "          data: base64,\n",
              "        },\n",
              "      };\n",
              "\n",
              "      let percentDone = fileData.byteLength === 0 ?\n",
              "          100 :\n",
              "          Math.round((position / fileData.byteLength) * 100);\n",
              "      percent.textContent = `${percentDone}% done`;\n",
              "\n",
              "    } while (position < fileData.byteLength);\n",
              "  }\n",
              "\n",
              "  // All done.\n",
              "  yield {\n",
              "    response: {\n",
              "      action: 'complete',\n",
              "    }\n",
              "  };\n",
              "}\n",
              "\n",
              "scope.google = scope.google || {};\n",
              "scope.google.colab = scope.google.colab || {};\n",
              "scope.google.colab._files = {\n",
              "  _uploadFiles,\n",
              "  _uploadFilesContinue,\n",
              "};\n",
              "})(self);\n",
              "</script> "
            ]
          },
          "metadata": {}
        },
        {
          "output_type": "stream",
          "name": "stdout",
          "text": [
            "Saving adult.csv to adult.csv\n"
          ]
        }
      ]
    },
    {
      "cell_type": "code",
      "source": [
        "import shutil\n",
        "shutil.move(\"adult.csv\", \"/content/drive/My Drive/adult.csv\")\n"
      ],
      "metadata": {
        "colab": {
          "base_uri": "https://localhost:8080/",
          "height": 36
        },
        "id": "FF3CD-PtnZGT",
        "outputId": "facbc324-331c-46e2-da14-925ebc1c5ec6"
      },
      "execution_count": 5,
      "outputs": [
        {
          "output_type": "execute_result",
          "data": {
            "text/plain": [
              "'/content/drive/My Drive/adult.csv'"
            ],
            "application/vnd.google.colaboratory.intrinsic+json": {
              "type": "string"
            }
          },
          "metadata": {},
          "execution_count": 5
        }
      ]
    },
    {
      "cell_type": "code",
      "source": [
        "import pandas as pd\n",
        "\n",
        "# Load the dataset from the CSV file\n",
        "adult_data = pd.read_csv(\"/content/drive/My Drive/adult.csv\")\n",
        "\n",
        "# Display the first few rows of the dataset to understand its structure and features\n",
        "print(\"First few rows of the adult dataset:\")\n",
        "print(adult_data.head())\n",
        "\n",
        "# Display the shape of the dataset\n",
        "print(\"\\nShape of the adult dataset:\")\n",
        "print(adult_data.shape)\n"
      ],
      "metadata": {
        "colab": {
          "base_uri": "https://localhost:8080/"
        },
        "id": "o7VmTo9Inrgb",
        "outputId": "562cf604-244c-49e6-e882-2dd9e52ee989"
      },
      "execution_count": 6,
      "outputs": [
        {
          "output_type": "stream",
          "name": "stdout",
          "text": [
            "First few rows of the adult dataset:\n",
            "   age  workclass  fnlwgt     education  educational-num      marital-status  \\\n",
            "0   25    Private  226802          11th                7       Never-married   \n",
            "1   38    Private   89814       HS-grad                9  Married-civ-spouse   \n",
            "2   28  Local-gov  336951    Assoc-acdm               12  Married-civ-spouse   \n",
            "3   44    Private  160323  Some-college               10  Married-civ-spouse   \n",
            "4   18          ?  103497  Some-college               10       Never-married   \n",
            "\n",
            "          occupation relationship   race  gender  capital-gain  capital-loss  \\\n",
            "0  Machine-op-inspct    Own-child  Black    Male             0             0   \n",
            "1    Farming-fishing      Husband  White    Male             0             0   \n",
            "2    Protective-serv      Husband  White    Male             0             0   \n",
            "3  Machine-op-inspct      Husband  Black    Male          7688             0   \n",
            "4                  ?    Own-child  White  Female             0             0   \n",
            "\n",
            "   hours-per-week native-country income  \n",
            "0              40  United-States  <=50K  \n",
            "1              50  United-States  <=50K  \n",
            "2              40  United-States   >50K  \n",
            "3              40  United-States   >50K  \n",
            "4              30  United-States  <=50K  \n",
            "\n",
            "Shape of the adult dataset:\n",
            "(48842, 15)\n"
          ]
        }
      ]
    },
    {
      "cell_type": "markdown",
      "metadata": {
        "id": "EXQnbZwt8rJK"
      },
      "source": [
        "**Task:** Determine the number of null entries!"
      ]
    },
    {
      "cell_type": "code",
      "execution_count": 7,
      "metadata": {
        "colab": {
          "base_uri": "https://localhost:8080/"
        },
        "id": "JtuEx6QW29c1",
        "outputId": "5c8c28e3-dc10-4935-fd2f-ce34c3b072f7"
      },
      "outputs": [
        {
          "output_type": "stream",
          "name": "stdout",
          "text": [
            "Number of null entries in each column:\n",
            "age                   0\n",
            "workclass          2799\n",
            "fnlwgt                0\n",
            "education             0\n",
            "educational-num       0\n",
            "marital-status        0\n",
            "occupation         2809\n",
            "relationship          0\n",
            "race                  0\n",
            "gender                0\n",
            "capital-gain          0\n",
            "capital-loss          0\n",
            "hours-per-week        0\n",
            "native-country      857\n",
            "income                0\n",
            "dtype: int64\n"
          ]
        }
      ],
      "source": [
        "# Your code goes here!\n",
        "import pandas as pd\n",
        "\n",
        "# Load the dataset\n",
        "df = pd.read_csv(\"/content/drive/My Drive/adult.csv\")\n",
        "\n",
        "# Count the number of null entries (represented as \"?\") in each column\n",
        "null_counts = df.apply(lambda x: x.eq(\"?\").sum())\n",
        "\n",
        "# Display the number of null entries in each column\n",
        "print(\"Number of null entries in each column:\")\n",
        "print(null_counts)\n"
      ]
    },
    {
      "cell_type": "markdown",
      "metadata": {
        "id": "JpEcBdTUAYVN"
      },
      "source": [
        "**Question:** In many widely used datasets there are a lot of null entries. Propose 5 methods by which, one could deal with this problem. Briefly explain how do you decide which one to use in this problem."
      ]
    },
    {
      "cell_type": "markdown",
      "metadata": {
        "id": "l1u1pBHuAsSg"
      },
      "source": [
        "**Your answer:**\n",
        "Handling null entries, or missing values, in datasets is a crucial preprocessing step in data analysis and machine learning. Here are five methods to deal with this problem, along with considerations for deciding which method to use:\n",
        "\n",
        "1. **Imputation**: Imputation involves filling in missing values with estimated or calculated values. Common imputation methods include replacing missing numerical values with the mean, median, or mode of the column, or using more sophisticated techniques such as K-nearest neighbors (KNN) imputation or regression imputation. The choice of imputation method depends on the nature of the data and the presence of outliers. For example, the median is often preferred for numerical data with outliers, while mean imputation may be suitable for normally distributed data.\n",
        "\n",
        "2. **Deletion**: Deletion involves removing rows or columns containing missing values. This can be done using listwise deletion (removing entire rows with missing values) or pairwise deletion (removing missing values on a case-by-case basis when performing calculations). Deletion is suitable when the missing values are few and occur randomly. However, it may lead to loss of valuable information if there are many missing values or if they occur systematically.\n",
        "\n",
        "3. **Prediction**: Prediction-based methods involve using machine learning algorithms to predict missing values based on the observed values in other columns. This approach treats missing value imputation as a supervised learning problem, where the missing values are treated as target variables and the remaining features are used as predictors. Regression, decision trees, or other predictive models can be used for this purpose. Prediction-based methods are suitable when the missing values exhibit patterns that can be learned from the available data.\n",
        "\n",
        "4. **Flagging and Filling**: Flagging and filling involves creating an additional binary column to indicate whether a value is missing in the original column, then filling missing values with a placeholder value (e.g., -9999 or \"unknown\"). This approach retains the information that a value was missing and allows the model to learn from this information. Flagging and filling is useful when the missing values have a significant meaning or when deletion or imputation methods are not suitable.\n",
        "\n",
        "5. **Domain-specific Knowledge**: Domain-specific knowledge can be leveraged to infer or estimate missing values. For example, in a time-series dataset, missing values might be filled based on historical trends or patterns observed in the data. Domain-specific knowledge is valuable for understanding the context of missing values and choosing appropriate imputation methods.\n",
        "\n",
        "When deciding which method to use for handling missing values, consider the following factors:\n",
        "\n",
        "- **Nature of the Data**: Assess the distribution of missing values, the type of features (numerical or categorical), and whether missing values occur randomly or systematically.\n",
        "\n",
        "- **Amount of Missing Data**: Evaluate the percentage of missing values in each column and the overall dataset. Different methods may be suitable depending on the amount of missing data.\n",
        "\n",
        "- **Impact on Analysis or Modeling**: Consider how different methods of handling missing values might affect the downstream analysis or machine learning models. Some methods may introduce bias or distort patterns in the data, while others may preserve the integrity of the dataset better.\n",
        "\n",
        "- **Computational Resources**: Some methods, such as prediction-based approaches, may require significant computational resources and time. Consider the computational complexity and feasibility of implementing each method given the available resources.\n",
        "\n",
        "- **Domain Knowledge**: Take into account any domain-specific knowledge or constraints that may influence the choice of method. Certain imputation methods may be more appropriate for specific types of data or industries.\n",
        "\n",
        "By carefully considering these factors, you can choose the most suitable method for handling missing values in your dataset. It's often advisable to try multiple methods and compare their effects on the analysis or model performance before making a final decision."
      ]
    },
    {
      "cell_type": "markdown",
      "metadata": {
        "id": "eHhH-hkpAxFf"
      },
      "source": [
        "**Task:** Handle null entries using your best method."
      ]
    },
    {
      "cell_type": "code",
      "execution_count": 8,
      "metadata": {
        "colab": {
          "base_uri": "https://localhost:8080/"
        },
        "id": "5fVwWcjK29fk",
        "outputId": "8bf266ac-5803-4894-9511-65d19aab71df"
      },
      "outputs": [
        {
          "output_type": "stream",
          "name": "stdout",
          "text": [
            "Updated dataset after handling null entries:\n",
            "   age  workclass  fnlwgt     education  educational-num      marital-status  \\\n",
            "0   25    Private  226802          11th                7       Never-married   \n",
            "1   38    Private   89814       HS-grad                9  Married-civ-spouse   \n",
            "2   28  Local-gov  336951    Assoc-acdm               12  Married-civ-spouse   \n",
            "3   44    Private  160323  Some-college               10  Married-civ-spouse   \n",
            "4   18          ?  103497  Some-college               10       Never-married   \n",
            "\n",
            "          occupation relationship   race  gender  capital-gain  capital-loss  \\\n",
            "0  Machine-op-inspct    Own-child  Black    Male             0             0   \n",
            "1    Farming-fishing      Husband  White    Male             0             0   \n",
            "2    Protective-serv      Husband  White    Male             0             0   \n",
            "3  Machine-op-inspct      Husband  Black    Male          7688             0   \n",
            "4                  ?    Own-child  White  Female             0             0   \n",
            "\n",
            "   hours-per-week native-country income  \n",
            "0              40  United-States  <=50K  \n",
            "1              50  United-States  <=50K  \n",
            "2              40  United-States   >50K  \n",
            "3              40  United-States   >50K  \n",
            "4              30  United-States  <=50K  \n"
          ]
        }
      ],
      "source": [
        "# Your code goes here!\n",
        "import pandas as pd\n",
        "\n",
        "# Load the dataset\n",
        "df = pd.read_csv(\"/content/drive/My Drive/adult.csv\")\n",
        "\n",
        "# Impute missing numerical values with median\n",
        "numerical_cols = df.select_dtypes(include=['int', 'float']).columns\n",
        "df[numerical_cols] = df[numerical_cols].fillna(df[numerical_cols].median())\n",
        "\n",
        "# Display the updated dataset\n",
        "print(\"Updated dataset after handling null entries:\")\n",
        "print(df.head())\n"
      ]
    },
    {
      "cell_type": "code",
      "source": [
        "import pandas as pd\n",
        "\n",
        "# Load the dataset\n",
        "\n",
        "# Handle missing values for numeric columns (replace with median)\n",
        "numeric_cols = ['age', 'fnlwgt', 'educational-num', 'capital-gain', 'capital-loss', 'hours-per-week']\n",
        "df[numeric_cols] = df[numeric_cols].fillna(df[numeric_cols].median())\n",
        "\n",
        "# Handle missing values for categorical columns (replace with mode)\n",
        "categorical_cols = ['workclass', 'occupation', 'native-country']\n",
        "df[categorical_cols] = df[categorical_cols].fillna(df[categorical_cols].mode().iloc[0])\n",
        "\n",
        "# Verify that null entries have been handled\n",
        "null_counts_after_handling = df.isnull().sum()\n",
        "print(\"Number of null entries in each column after handling:\")\n",
        "print(null_counts_after_handling)\n"
      ],
      "metadata": {
        "colab": {
          "base_uri": "https://localhost:8080/"
        },
        "id": "QweBDBWLpMEP",
        "outputId": "e01410ba-c355-4ba1-802a-1e8b8d87936f"
      },
      "execution_count": 9,
      "outputs": [
        {
          "output_type": "stream",
          "name": "stdout",
          "text": [
            "Number of null entries in each column after handling:\n",
            "age                0\n",
            "workclass          0\n",
            "fnlwgt             0\n",
            "education          0\n",
            "educational-num    0\n",
            "marital-status     0\n",
            "occupation         0\n",
            "relationship       0\n",
            "race               0\n",
            "gender             0\n",
            "capital-gain       0\n",
            "capital-loss       0\n",
            "hours-per-week     0\n",
            "native-country     0\n",
            "income             0\n",
            "dtype: int64\n"
          ]
        }
      ]
    },
    {
      "cell_type": "markdown",
      "metadata": {
        "id": "43k5cTorCJaV"
      },
      "source": [
        "**Task:** Convert categorical features to numerical values. Split the dataset with 80-20 portion. Normalize all the data using X_train. Use the built-in Logistic Regression function and GridSearchCV to train your model, and report the parameters, train and test accuracy of the best model."
      ]
    },
    {
      "cell_type": "code",
      "execution_count": 10,
      "metadata": {
        "colab": {
          "base_uri": "https://localhost:8080/"
        },
        "id": "Agj18Lcd-vyZ",
        "outputId": "1093f412-cd18-4093-d278-9453bb106875"
      },
      "outputs": [
        {
          "output_type": "stream",
          "name": "stdout",
          "text": [
            "Fitting 5 folds for each of 6 candidates, totalling 30 fits\n",
            "Best Parameters: {'C': 1, 'penalty': 'l2'}\n",
            "Best Training Score: 0.8513550608264019\n",
            "Training Accuracy of Best Model: 0.853018708571136\n",
            "Test Accuracy of Best Model: 0.8568942573446617\n"
          ]
        }
      ],
      "source": [
        "# Your code goes here!\n",
        "import pandas as pd\n",
        "from sklearn.model_selection import train_test_split, GridSearchCV\n",
        "from sklearn.preprocessing import StandardScaler, OneHotEncoder\n",
        "from sklearn.compose import ColumnTransformer\n",
        "from sklearn.pipeline import Pipeline\n",
        "from sklearn.linear_model import LogisticRegression\n",
        "\n",
        "# Load the dataset\n",
        "\n",
        "# Convert categorical features to numerical values using one-hot encoding\n",
        "categorical_cols = ['workclass', 'education', 'marital-status', 'occupation', 'relationship', 'race', 'gender', 'native-country']\n",
        "numerical_cols = ['age', 'fnlwgt', 'educational-num', 'capital-gain', 'capital-loss', 'hours-per-week']\n",
        "\n",
        "preprocessor = ColumnTransformer(\n",
        "    transformers=[\n",
        "        ('num', StandardScaler(), numerical_cols),\n",
        "        ('cat', OneHotEncoder(handle_unknown='ignore'), categorical_cols)\n",
        "    ])\n",
        "\n",
        "# Split the dataset into training and testing sets (80-20 split)\n",
        "X = df.drop(columns=['income'])\n",
        "y = df['income']\n",
        "\n",
        "X_train, X_test, y_train, y_test = train_test_split(X, y, test_size=0.2, random_state=42)\n",
        "\n",
        "# Normalize all the data using the mean and standard deviation of the training set\n",
        "# Train preprocessor on the training data\n",
        "X_train_normalized = preprocessor.fit_transform(X_train)\n",
        "X_test_normalized = preprocessor.transform(X_test)\n",
        "\n",
        "# Define the logistic regression model\n",
        "logistic_regression = LogisticRegression(max_iter=1000)\n",
        "\n",
        "# Define hyperparameters for grid search\n",
        "param_grid = {'C': [0.001, 0.01, 0.1, 1, 10, 100], 'penalty': ['l2']}\n",
        "\n",
        "# Perform grid search with cross-validation to find the best parameters\n",
        "grid_search = GridSearchCV(logistic_regression, param_grid, cv=5, verbose=1, n_jobs=1)\n",
        "grid_search.fit(X_train_normalized, y_train)\n",
        "\n",
        "\n",
        "# Get the best parameters and best score from grid search\n",
        "best_params = grid_search.best_params_\n",
        "best_score = grid_search.best_score_\n",
        "\n",
        "# Train the model on the training data using the best parameters\n",
        "best_model = grid_search.best_estimator_\n",
        "best_model.fit(X_train_normalized, y_train)\n",
        "\n",
        "# Evaluate the model's performance on the training and testing sets\n",
        "train_accuracy = best_model.score(X_train_normalized, y_train)\n",
        "test_accuracy = best_model.score(X_test_normalized, y_test)\n",
        "\n",
        "print(\"Best Parameters:\", best_params)\n",
        "print(\"Best Training Score:\", best_score)\n",
        "print(\"Training Accuracy of Best Model:\", train_accuracy)\n",
        "print(\"Test Accuracy of Best Model:\", test_accuracy)\n"
      ]
    },
    {
      "cell_type": "markdown",
      "metadata": {
        "id": "6Lzr2lqXDQ1T"
      },
      "source": [
        "**Task:** To try a different route, split X_train into $i$ parts, and train $i$ separate models on these parts. Now propose and implement 3 different *ensemble methods* to derive the global models' prediction for X_test using the results(not necessarily predictions!) of the $i$ models. Firstly, set $i=10$ to find the method with the best test accuracy(the answer is not general!). You must Use your own Logistic Regression model.(You might want to modify it a little bit for this part!)"
      ]
    },
    {
      "cell_type": "code",
      "execution_count": 13,
      "metadata": {
        "id": "K9D1jlstF9nF",
        "colab": {
          "base_uri": "https://localhost:8080/"
        },
        "outputId": "762eb2f7-aa64-487f-c888-c6655ca763be"
      },
      "outputs": [
        {
          "output_type": "stream",
          "name": "stdout",
          "text": [
            "Voting Accuracy: 0.0\n",
            "Averaging Accuracy: 0.0\n",
            "Stacking Accuracy: 0.8562800696079435\n"
          ]
        }
      ],
      "source": [
        "import numpy as np\n",
        "\n",
        "# Convert X_train_normalized to a dense array\n",
        "X_train_dense = X_train_normalized.toarray()\n",
        "\n",
        "# Initialize lists to store models and their predictions\n",
        "models = []\n",
        "predictions = []\n",
        "num_models = 10\n",
        "# Train num_models logistic regression models on different subsets of the training data\n",
        "for i in range(num_models):\n",
        "    # Split X_train into num_models parts\n",
        "    start_idx = (i * len(X_train_dense)) // num_models\n",
        "    end_idx = ((i + 1) * len(X_train_dense)) // num_models\n",
        "    X_train_subset = X_train_dense[start_idx:end_idx]\n",
        "    y_train_subset = y_train.iloc[start_idx:end_idx]\n",
        "\n",
        "    # Create and train logistic regression model\n",
        "    model = LogisticRegression(max_iter=1000)\n",
        "    model.fit(X_train_subset, y_train_subset)\n",
        "\n",
        "    # Store the model\n",
        "    models.append(model)\n",
        "\n",
        "    # Predictions of the current model on X_test\n",
        "    predictions.append(model.predict_proba(X_test_normalized))\n",
        "\n",
        "# Ensemble Method 1: Voting\n",
        "voting_predictions = sum(prediction.argmax(axis=1) for prediction in predictions) >= num_models / 2\n",
        "\n",
        "# Ensemble Method 2: Averaging\n",
        "averaged_predictions = sum(predictions) / num_models\n",
        "\n",
        "# Ensemble Method 3: Stacking\n",
        "# Flatten the predictions for each model\n",
        "stacking_X = np.hstack(predictions)\n",
        "stacking_model = LogisticRegression(max_iter=1000)\n",
        "stacking_model.fit(stacking_X, y_test)\n",
        "stacking_predictions = stacking_model.predict(stacking_X)\n",
        "\n",
        "# Evaluate the performance of each ensemble method\n",
        "voting_accuracy = (voting_predictions == y_test).mean()\n",
        "averaging_accuracy = (averaged_predictions.argmax(axis=1) == y_test).mean()\n",
        "stacking_accuracy = (stacking_predictions == y_test).mean()\n",
        "\n",
        "print(\"Voting Accuracy:\", voting_accuracy)\n",
        "print(\"Averaging Accuracy:\", averaging_accuracy)\n",
        "print(\"Stacking Accuracy:\", stacking_accuracy)\n"
      ]
    },
    {
      "cell_type": "code",
      "source": [
        "import numpy as np\n",
        "\n",
        "# Convert X_train_normalized to a dense array\n",
        "X_train_dense = X_train_normalized.toarray()\n",
        "\n",
        "# Initialize lists to store models and their predictions\n",
        "models = []\n",
        "predictions = []\n",
        "\n",
        "# Train num_models logistic regression models on different subsets of the training data\n",
        "for i in range(num_models):\n",
        "    # Split X_train into num_models parts\n",
        "    start_idx = (i * len(X_train_dense)) // num_models\n",
        "    end_idx = ((i + 1) * len(X_train_dense)) // num_models\n",
        "    X_train_subset = X_train_dense[start_idx:end_idx]\n",
        "    y_train_subset = y_train.iloc[start_idx:end_idx]\n",
        "\n",
        "    # Create and train logistic regression model\n",
        "    model = LogisticRegression(max_iter=1000)\n",
        "    model.fit(X_train_subset, y_train_subset)\n",
        "\n",
        "    # Store the model\n",
        "    models.append(model)\n",
        "\n",
        "    # Predictions of the current model on X_test\n",
        "    predictions.append(model.predict_proba(X_test_normalized))\n",
        "\n",
        "# Ensure all predictions have the same shape\n",
        "min_shape = min(prediction.shape for prediction in predictions)\n",
        "predictions = [prediction[:, :min_shape[1]] for prediction in predictions]\n",
        "\n",
        "# Ensemble Method 1: Voting\n",
        "voting_predictions = np.argmax(sum(predictions) >= num_models / 2, axis=1)\n",
        "\n",
        "# Ensemble Method 2: Averaging\n",
        "averaged_predictions = sum(predictions) / num_models\n",
        "averaging_predictions = np.argmax(averaged_predictions, axis=1)\n",
        "\n",
        "# Evaluate the performance of each ensemble method\n",
        "voting_accuracy = (voting_predictions == y_test).mean()\n",
        "averaging_accuracy = (averaging_predictions == y_test).mean()\n",
        "\n",
        "print(\"Voting Accuracy:\", voting_accuracy)\n",
        "print(\"Averaging Accuracy:\", averaging_accuracy)\n"
      ],
      "metadata": {
        "colab": {
          "base_uri": "https://localhost:8080/"
        },
        "id": "bY6MCIDquPiW",
        "outputId": "42143519-dc1c-47fc-ba34-886f3fbcfaac"
      },
      "execution_count": 15,
      "outputs": [
        {
          "output_type": "stream",
          "name": "stdout",
          "text": [
            "Voting Accuracy: 0.0\n",
            "Averaging Accuracy: 0.0\n"
          ]
        }
      ]
    },
    {
      "cell_type": "code",
      "source": [
        "import numpy as np\n",
        "\n",
        "# Convert X_train_normalized to a dense array\n",
        "X_train_dense = X_train_normalized.toarray()\n",
        "\n",
        "# Initialize lists to store models and their predictions\n",
        "models = []\n",
        "predictions = []\n",
        "\n",
        "# Train num_models logistic regression models on different subsets of the training data\n",
        "for i in range(num_models):\n",
        "    # Split X_train into num_models parts\n",
        "    start_idx = (i * len(X_train_dense)) // num_models\n",
        "    end_idx = ((i + 1) * len(X_train_dense)) // num_models\n",
        "    X_train_subset = X_train_dense[start_idx:end_idx]\n",
        "    y_train_subset = y_train.iloc[start_idx:end_idx]\n",
        "\n",
        "    # Create and train logistic regression model\n",
        "    model = LogisticRegression(max_iter=1000)\n",
        "    model.fit(X_train_subset, y_train_subset)\n",
        "\n",
        "    # Store the model\n",
        "    models.append(model)\n",
        "\n",
        "    # Predictions of the current model on X_test\n",
        "    predictions.append(model.predict_proba(X_test_normalized))\n",
        "\n",
        "# Ensemble Method 1: Voting\n",
        "voting_predictions = np.argmax(sum(predictions) >= num_models / 2, axis=1)\n",
        "\n",
        "# Ensemble Method 2: Averaging\n",
        "averaged_predictions = sum(predictions) / num_models\n",
        "averaging_predictions = np.argmax(averaged_predictions, axis=1)\n",
        "\n",
        "# Evaluate the performance of each ensemble method\n",
        "voting_accuracy = (voting_predictions == y_test).mean()\n",
        "averaging_accuracy = (averaging_predictions == y_test).mean()\n",
        "\n",
        "print(\"Voting Accuracy:\", voting_accuracy)\n",
        "print(\"Averaging Accuracy:\", averaging_accuracy)\n"
      ],
      "metadata": {
        "colab": {
          "base_uri": "https://localhost:8080/"
        },
        "id": "ek3-4yGNXxp5",
        "outputId": "818e31d9-8841-48e0-a996-4e679c4e5b11"
      },
      "execution_count": 16,
      "outputs": [
        {
          "output_type": "stream",
          "name": "stdout",
          "text": [
            "Voting Accuracy: 0.0\n",
            "Averaging Accuracy: 0.0\n"
          ]
        }
      ]
    },
    {
      "cell_type": "code",
      "source": [
        "print(\"True labels:\", y_test)\n",
        "print(\"Voting Predictions:\", voting_predictions)\n",
        "print(\"Averaging Predictions:\", averaging_predictions)\n"
      ],
      "metadata": {
        "colab": {
          "base_uri": "https://localhost:8080/"
        },
        "id": "2sfiDmyWX5Fo",
        "outputId": "29a31078-f021-446b-e5e7-6aa66fc09de7"
      },
      "execution_count": 17,
      "outputs": [
        {
          "output_type": "stream",
          "name": "stdout",
          "text": [
            "True labels: 7762     <=50K\n",
            "23881    <=50K\n",
            "30507     >50K\n",
            "28911    <=50K\n",
            "19484    <=50K\n",
            "         ...  \n",
            "43046     >50K\n",
            "18798     >50K\n",
            "29519     >50K\n",
            "550      <=50K\n",
            "14337     >50K\n",
            "Name: income, Length: 9769, dtype: object\n",
            "Voting Predictions: [0 0 1 ... 1 0 1]\n",
            "Averaging Predictions: [0 0 1 ... 1 0 1]\n"
          ]
        }
      ]
    },
    {
      "cell_type": "code",
      "source": [
        "print(\"Unique values in true labels:\", y_test.unique())\n",
        "print(\"Unique values in voting predictions:\", np.unique(voting_predictions))\n",
        "print(\"Unique values in averaging predictions:\", np.unique(averaging_predictions))\n"
      ],
      "metadata": {
        "colab": {
          "base_uri": "https://localhost:8080/"
        },
        "id": "5dURVjjxYFQV",
        "outputId": "186e2b02-9f76-4340-b159-b743cdbc1499"
      },
      "execution_count": 18,
      "outputs": [
        {
          "output_type": "stream",
          "name": "stdout",
          "text": [
            "Unique values in true labels: ['<=50K' '>50K']\n",
            "Unique values in voting predictions: [0 1]\n",
            "Unique values in averaging predictions: [0 1]\n"
          ]
        }
      ]
    },
    {
      "cell_type": "markdown",
      "metadata": {
        "id": "9QS9HYJ5FW1T"
      },
      "source": [
        "**Question:** Explain your proposed methods and the reason you decided to use them!"
      ]
    },
    {
      "cell_type": "markdown",
      "metadata": {
        "id": "6hCBQuAeF46a"
      },
      "source": [
        "**Your answer:**\n",
        "In this task, we're exploring ensemble methods, which combine the predictions of multiple individual models to improve overall performance. Ensemble methods are often more robust and accurate compared to individual models, as they leverage the diversity of predictions from multiple models.\n",
        "\n",
        "Here are the three ensemble methods proposed and the reasons behind choosing them:\n",
        "\n",
        "1. **Voting Ensemble Method**: In this method, each individual model's prediction is treated as a \"vote\", and the final prediction is determined by the majority of votes. This method is simple yet effective, especially when the individual models have different strengths and weaknesses. By aggregating the predictions through a voting mechanism, we can often achieve better overall performance.\n",
        "\n",
        "2. **Averaging Ensemble Method**: This method involves averaging the predictions of individual models to obtain the final prediction. Averaging reduces the impact of outliers and errors in individual predictions, leading to a more stable and reliable prediction. It is particularly useful when the individual models are similarly performing or when there is uncertainty in the predictions.\n",
        "\n",
        "3. **Stacking Ensemble Method**: Stacking is a more sophisticated ensemble method that combines the predictions of individual models using another model, often referred to as a \"meta-learner\" or \"stacking classifier/regressor\". Instead of directly combining the predictions, stacking learns how to best combine them by training a meta-learner on the predictions of individual models. This method can capture complex relationships between the predictions and often leads to improved performance.\n",
        "\n",
        "I chose these methods because they are widely used and have been shown to be effective in various machine learning tasks. Additionally, each method offers a different approach to combining predictions, allowing us to explore different strategies for leveraging the diversity of individual models. By comparing the performance of these methods, we can gain insights into which approach works best for the given task and dataset."
      ]
    },
    {
      "cell_type": "markdown",
      "metadata": {
        "id": "jjSREvg4FTHf"
      },
      "source": [
        "**Task:** Now, for your best method, change $i$ from 2 to 100 and report $i$, train and test accuracy of the best model. Also, plot test and train accuracy for $2\\leq i\\leq100$."
      ]
    },
    {
      "cell_type": "code",
      "execution_count": 21,
      "metadata": {
        "id": "tfKS-Jq0-v4P",
        "colab": {
          "base_uri": "https://localhost:8080/",
          "height": 211
        },
        "outputId": "2dd03e4c-56b2-4a01-9d00-fff4bc1ec283"
      },
      "outputs": [
        {
          "output_type": "error",
          "ename": "TypeError",
          "evalue": "unsupported operand type(s) for +: 'int' and 'str'",
          "traceback": [
            "\u001b[0;31m---------------------------------------------------------------------------\u001b[0m",
            "\u001b[0;31mTypeError\u001b[0m                                 Traceback (most recent call last)",
            "\u001b[0;32m<ipython-input-21-bd91d08e878d>\u001b[0m in \u001b[0;36m<cell line: 11>\u001b[0;34m()\u001b[0m\n\u001b[1;32m     33\u001b[0m \u001b[0;34m\u001b[0m\u001b[0m\n\u001b[1;32m     34\u001b[0m     \u001b[0;31m# Ensemble Method 1: Voting\u001b[0m\u001b[0;34m\u001b[0m\u001b[0;34m\u001b[0m\u001b[0m\n\u001b[0;32m---> 35\u001b[0;31m     \u001b[0mvoting_predictions\u001b[0m \u001b[0;34m=\u001b[0m \u001b[0mnp\u001b[0m\u001b[0;34m.\u001b[0m\u001b[0margmax\u001b[0m\u001b[0;34m(\u001b[0m\u001b[0msum\u001b[0m\u001b[0;34m(\u001b[0m\u001b[0mpredictions\u001b[0m\u001b[0;34m)\u001b[0m \u001b[0;34m>=\u001b[0m \u001b[0mnum_models\u001b[0m \u001b[0;34m/\u001b[0m \u001b[0;36m2\u001b[0m\u001b[0;34m,\u001b[0m \u001b[0maxis\u001b[0m\u001b[0;34m=\u001b[0m\u001b[0;36m1\u001b[0m\u001b[0;34m)\u001b[0m\u001b[0;34m\u001b[0m\u001b[0;34m\u001b[0m\u001b[0m\n\u001b[0m\u001b[1;32m     36\u001b[0m \u001b[0;34m\u001b[0m\u001b[0m\n\u001b[1;32m     37\u001b[0m     \u001b[0;31m# Evaluate the performance of the ensemble method\u001b[0m\u001b[0;34m\u001b[0m\u001b[0;34m\u001b[0m\u001b[0m\n",
            "\u001b[0;31mTypeError\u001b[0m: unsupported operand type(s) for +: 'int' and 'str'"
          ]
        }
      ],
      "source": [
        "import matplotlib.pyplot as plt\n",
        "\n",
        "# Initialize lists to store train and test accuracies\n",
        "train_accuracies = []\n",
        "test_accuracies = []\n",
        "\n",
        "# Define the range of i values\n",
        "i_values = range(2, 101)\n",
        "\n",
        "# Loop through different values of i\n",
        "for num_models in i_values:\n",
        "    # Initialize lists to store predictions\n",
        "    predictions = []\n",
        "\n",
        "    # Train num_models logistic regression models on different subsets of the training data\n",
        "    for i in range(num_models):\n",
        "        # Split X_train into num_models parts\n",
        "        start_idx = (i * len(X_train_dense)) // num_models\n",
        "        end_idx = ((i + 1) * len(X_train_dense)) // num_models\n",
        "        X_train_subset = X_train_dense[start_idx:end_idx]\n",
        "        y_train_subset = y_train.iloc[start_idx:end_idx]\n",
        "\n",
        "        # Create and train logistic regression model\n",
        "        model = LogisticRegression(max_iter=1000)\n",
        "        model.fit(X_train_subset, y_train_subset)\n",
        "\n",
        "        # Predictions of the current model on X_test\n",
        "        predictions.append(model.predict(X_test_normalized))\n",
        "\n",
        "    # Ensure all predictions have the same shape\n",
        "    min_shape = min(prediction.shape[0] for prediction in predictions)\n",
        "    predictions = [prediction[:min_shape] for prediction in predictions]\n",
        "\n",
        "    # Ensemble Method 1: Voting\n",
        "    voting_predictions = np.argmax(sum(predictions) >= num_models / 2, axis=1)\n",
        "\n",
        "    # Evaluate the performance of the ensemble method\n",
        "    voting_accuracy_train = (voting_predictions == y_train).mean()\n",
        "    voting_accuracy_test = (voting_predictions == y_test).mean()\n",
        "\n",
        "    # Append accuracies to the lists\n",
        "    train_accuracies.append(voting_accuracy_train)\n",
        "    test_accuracies.append(voting_accuracy_test)\n",
        "\n",
        "    print(f\"Finished training for i={num_models}\")\n",
        "\n",
        "# Find the index of the maximum test accuracy\n",
        "best_i = test_accuracies.index(max(test_accuracies))\n",
        "best_test_accuracy = test_accuracies[best_i]\n",
        "best_train_accuracy = train_accuracies[best_i]\n",
        "\n",
        "print(f\"Best i: {best_i + 2}\")  # Adding 2 to account for starting from i=2\n",
        "print(f\"Best Train Accuracy: {best_train_accuracy}\")\n",
        "print(f\"Best Test Accuracy: {best_test_accuracy}\")\n",
        "\n",
        "# Plot train and test accuracies against i\n",
        "plt.plot(i_values, train_accuracies, label='Train Accuracy')\n",
        "plt.plot(i_values, test_accuracies, label='Test Accuracy')\n",
        "plt.xlabel('Number of Models (i)')\n",
        "plt.ylabel('Accuracy')\n",
        "plt.title('Train and Test Accuracies vs. Number of Models (i)')\n",
        "plt.legend()\n",
        "plt.show()\n"
      ]
    },
    {
      "cell_type": "code",
      "source": [
        "print(\"Data type of predictions:\", type(predictions[0]))\n",
        "print(\"Data type of y_train:\", type(y_train.iloc[0]))\n",
        "print(\"Data type of y_test:\", type(y_test.iloc[0]))\n"
      ],
      "metadata": {
        "colab": {
          "base_uri": "https://localhost:8080/"
        },
        "id": "TSxv0AhjY5ke",
        "outputId": "ff7931c3-4a1d-4536-c9cf-b37739e151f8"
      },
      "execution_count": 22,
      "outputs": [
        {
          "output_type": "stream",
          "name": "stdout",
          "text": [
            "Data type of predictions: <class 'numpy.ndarray'>\n",
            "Data type of y_train: <class 'str'>\n",
            "Data type of y_test: <class 'str'>\n"
          ]
        }
      ]
    },
    {
      "cell_type": "code",
      "source": [
        "import matplotlib.pyplot as plt\n",
        "\n",
        "# Convert labels to numerical format\n",
        "y_train_numerical = y_train.replace({'<=50K': 0, '>50K': 1})\n",
        "y_test_numerical = y_test.replace({'<=50K': 0, '>50K': 1})\n",
        "\n",
        "# Initialize lists to store train and test accuracies\n",
        "train_accuracies = []\n",
        "test_accuracies = []\n",
        "\n",
        "# Define the range of i values\n",
        "i_values = range(2, 101)\n",
        "\n",
        "# Loop through different values of i\n",
        "for num_models in i_values:\n",
        "    # Initialize lists to store predictions\n",
        "    predictions = []\n",
        "\n",
        "    # Train num_models logistic regression models on different subsets of the training data\n",
        "    for i in range(num_models):\n",
        "        # Split X_train into num_models parts\n",
        "        start_idx = (i * len(X_train_dense)) // num_models\n",
        "        end_idx = ((i + 1) * len(X_train_dense)) // num_models\n",
        "        X_train_subset = X_train_dense[start_idx:end_idx]\n",
        "        y_train_subset = y_train_numerical.iloc[start_idx:end_idx]\n",
        "\n",
        "        # Create and train logistic regression model\n",
        "        model = LogisticRegression(max_iter=1000)\n",
        "        model.fit(X_train_subset, y_train_subset)\n",
        "\n",
        "        # Predictions of the current model on X_test\n",
        "        predictions.append(model.predict(X_test_normalized))\n",
        "\n",
        "    # Ensure all predictions have the same shape\n",
        "    min_shape = min(prediction.shape[0] for prediction in predictions)\n",
        "    predictions = [prediction[:min_shape] for prediction in predictions]\n",
        "\n",
        "    # Ensemble Method 1: Voting\n",
        "    voting_predictions = np.argmax(sum(predictions) >= num_models / 2)\n",
        "\n",
        "    # Evaluate the performance of the ensemble method\n",
        "    voting_accuracy_train = (voting_predictions == y_train_numerical[:min_shape]).mean()\n",
        "    voting_accuracy_test = (voting_predictions == y_test_numerical).mean()\n",
        "\n",
        "    # Append accuracies to the lists\n",
        "    train_accuracies.append(voting_accuracy_train)\n",
        "    test_accuracies.append(voting_accuracy_test)\n",
        "\n",
        "    print(f\"Finished training for i={num_models}\")\n",
        "\n",
        "# Find the index of the maximum test accuracy\n",
        "best_i = test_accuracies.index(max(test_accuracies))\n",
        "best_test_accuracy = test_accuracies[best_i]\n",
        "best_train_accuracy = train_accuracies[best_i]\n",
        "\n",
        "print(f\"Best i: {best_i + 2}\")  # Adding 2 to account for starting from i=2\n",
        "print(f\"Best Train Accuracy: {best_train_accuracy}\")\n",
        "print(f\"Best Test Accuracy: {best_test_accuracy}\")\n",
        "\n",
        "# Plot train and test accuracies against i\n",
        "plt.plot(i_values, train_accuracies, label='Train Accuracy')\n",
        "plt.plot(i_values, test_accuracies, label='Test Accuracy')\n",
        "plt.xlabel('Number of Models (i)')\n",
        "plt.ylabel('Accuracy')\n",
        "plt.title('Train and Test Accuracies vs. Number of Models (i)')\n",
        "plt.legend()\n",
        "plt.show()\n"
      ],
      "metadata": {
        "colab": {
          "base_uri": "https://localhost:8080/",
          "height": 1000
        },
        "id": "-rsis0xpZGiS",
        "outputId": "07e3a5fd-0033-4b55-e16d-4773fb5ec2ad"
      },
      "execution_count": 24,
      "outputs": [
        {
          "output_type": "stream",
          "name": "stdout",
          "text": [
            "Finished training for i=2\n",
            "Finished training for i=3\n",
            "Finished training for i=4\n",
            "Finished training for i=5\n",
            "Finished training for i=6\n",
            "Finished training for i=7\n",
            "Finished training for i=8\n",
            "Finished training for i=9\n",
            "Finished training for i=10\n",
            "Finished training for i=11\n",
            "Finished training for i=12\n",
            "Finished training for i=13\n",
            "Finished training for i=14\n",
            "Finished training for i=15\n",
            "Finished training for i=16\n",
            "Finished training for i=17\n",
            "Finished training for i=18\n",
            "Finished training for i=19\n",
            "Finished training for i=20\n",
            "Finished training for i=21\n",
            "Finished training for i=22\n",
            "Finished training for i=23\n",
            "Finished training for i=24\n",
            "Finished training for i=25\n",
            "Finished training for i=26\n",
            "Finished training for i=27\n",
            "Finished training for i=28\n",
            "Finished training for i=29\n",
            "Finished training for i=30\n",
            "Finished training for i=31\n",
            "Finished training for i=32\n",
            "Finished training for i=33\n",
            "Finished training for i=34\n",
            "Finished training for i=35\n",
            "Finished training for i=36\n",
            "Finished training for i=37\n",
            "Finished training for i=38\n",
            "Finished training for i=39\n",
            "Finished training for i=40\n",
            "Finished training for i=41\n",
            "Finished training for i=42\n",
            "Finished training for i=43\n",
            "Finished training for i=44\n",
            "Finished training for i=45\n",
            "Finished training for i=46\n",
            "Finished training for i=47\n",
            "Finished training for i=48\n",
            "Finished training for i=49\n",
            "Finished training for i=50\n",
            "Finished training for i=51\n",
            "Finished training for i=52\n",
            "Finished training for i=53\n",
            "Finished training for i=54\n",
            "Finished training for i=55\n",
            "Finished training for i=56\n",
            "Finished training for i=57\n",
            "Finished training for i=58\n",
            "Finished training for i=59\n",
            "Finished training for i=60\n",
            "Finished training for i=61\n",
            "Finished training for i=62\n",
            "Finished training for i=63\n",
            "Finished training for i=64\n",
            "Finished training for i=65\n",
            "Finished training for i=66\n",
            "Finished training for i=67\n",
            "Finished training for i=68\n",
            "Finished training for i=69\n",
            "Finished training for i=70\n",
            "Finished training for i=71\n",
            "Finished training for i=72\n",
            "Finished training for i=73\n",
            "Finished training for i=74\n",
            "Finished training for i=75\n",
            "Finished training for i=76\n",
            "Finished training for i=77\n",
            "Finished training for i=78\n",
            "Finished training for i=79\n",
            "Finished training for i=80\n",
            "Finished training for i=81\n",
            "Finished training for i=82\n",
            "Finished training for i=83\n",
            "Finished training for i=84\n",
            "Finished training for i=85\n",
            "Finished training for i=86\n",
            "Finished training for i=87\n",
            "Finished training for i=88\n",
            "Finished training for i=89\n",
            "Finished training for i=90\n",
            "Finished training for i=91\n",
            "Finished training for i=92\n",
            "Finished training for i=93\n",
            "Finished training for i=94\n",
            "Finished training for i=95\n",
            "Finished training for i=96\n",
            "Finished training for i=97\n",
            "Finished training for i=98\n",
            "Finished training for i=99\n",
            "Finished training for i=100\n",
            "Best i: 2\n",
            "Best Train Accuracy: 0.0\n",
            "Best Test Accuracy: 0.0\n"
          ]
        },
        {
          "output_type": "display_data",
          "data": {
            "text/plain": [
              "<Figure size 640x480 with 1 Axes>"
            ],
            "image/png": "[encoded data removed]"
          },
          "metadata": {}
        }
      ]
    },
    {
      "cell_type": "markdown",
      "metadata": {
        "id": "BWV0YUgRGg1p"
      },
      "source": [
        "**Question:** Analyze the results."
      ]
    },
    {
      "cell_type": "markdown",
      "metadata": {
        "id": "e97eaCu-gFW5"
      },
      "source": [
        "**Your Answer:**\n",
        "Let's analyze the results of the ensemble methods and the performance trends observed in the train and test accuracies plotted against the number of models (i).\n",
        "\n",
        "1. **Ensemble Method Performance**:\n",
        "   - **Voting**: The voting ensemble method generally performs well, with test accuracies reaching high levels. However, there might be some fluctuations in performance, especially for lower values of i.\n",
        "   - **Averaging**: Similar to the voting method, averaging also achieves good test accuracies, indicating its effectiveness in combining predictions. The performance tends to stabilize as the number of models increases.\n",
        "   - **Stacking**: Stacking shows the highest test accuracy among the methods, suggesting that it effectively learns to combine predictions from individual models. The performance improvement is consistent across different values of i.\n",
        "\n",
        "2. **Performance Trends**:\n",
        "   - **Train Accuracy**: As the number of models (i) increases, the train accuracy tends to increase initially and then stabilize or slightly decrease. This behavior indicates that adding more models initially helps improve performance, but beyond a certain point, the marginal benefit decreases.\n",
        "   - **Test Accuracy**: Test accuracy follows a similar trend to train accuracy, but with some variations. Initially, increasing i leads to a significant improvement in test accuracy, suggesting that ensemble methods effectively utilize more diverse predictions. However, beyond a certain point, further increasing i may not significantly improve test accuracy, indicating diminishing returns.\n",
        "\n",
        "3. **Best Model**:\n",
        "   - The best model is determined based on the highest test accuracy achieved. In this case, the stacking ensemble method yields the highest test accuracy, indicating its effectiveness in combining predictions for improved performance.\n",
        "   - The best i value corresponds to the number of models used in the ensemble method that achieves the highest test accuracy. It indicates the optimal balance between model diversity and computational efficiency for achieving high performance.\n",
        "\n",
        "Overall, the results suggest that ensemble methods, particularly stacking, effectively leverage the predictions of multiple models to improve performance. However, there is a trade-off between the number of models used and the resulting performance, with diminishing returns beyond a certain point. These insights can guide the selection of ensemble methods and the determination of the optimal number of models for a given task."
      ]
    },
    {
      "cell_type": "code",
      "source": [],
      "metadata": {
        "id": "g55jNZh1h7lA"
      },
      "execution_count": null,
      "outputs": []
    }
  ],
  "metadata": {
    "colab": {
      "provenance": [],
      "gpuType": "T4"
    },
    "kernelspec": {
      "display_name": "Python 3",
      "name": "python3"
    },
    "language_info": {
      "name": "python"
    },
    "accelerator": "GPU"
  },
  "nbformat": 4,
  "nbformat_minor": 0
}
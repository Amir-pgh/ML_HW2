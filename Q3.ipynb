{
  "cells": [
    {
      "cell_type": "markdown",
      "id": "5f42a3ce",
      "metadata": {
        "id": "5f42a3ce"
      },
      "source": [
        "<h1 align=\"center\">Introduction to Machine Learning - 25737-2</h1>\n",
        "<h4 align=\"center\">Dr. R. Amiri</h4>\n",
        "<h4 align=\"center\">Sharif University of Technology, Spring 2024</h4>\n",
        "\n",
        "\n",
        "**<font color='red'>Plagiarism is strongly prohibited!</font>**\n",
        "\n",
        "\n",
        "**Student Name**: Amirali Pourdehghan\n",
        "\n",
        "**Student ID**: 400107553\n",
        "\n",
        "\n",
        "\n"
      ]
    },
    {
      "cell_type": "markdown",
      "id": "a01c559e",
      "metadata": {
        "id": "a01c559e"
      },
      "source": [
        "## Importing Libraries\n",
        "\n",
        "First we import libraries that we need for this assignment."
      ]
    },
    {
      "cell_type": "code",
      "execution_count": 1,
      "id": "0423187e",
      "metadata": {
        "id": "0423187e"
      },
      "outputs": [],
      "source": [
        "import numpy as np\n",
        "import pandas as pd\n",
        "import matplotlib.pyplot as plt\n",
        "\n",
        "# import any other libraries needed below"
      ]
    },
    {
      "cell_type": "code",
      "source": [
        "## Write your code here ##\n",
        "from google.colab import drive\n",
        "drive.mount('/content/drive')\n"
      ],
      "metadata": {
        "id": "uAxhMnH07rco",
        "colab": {
          "base_uri": "https://localhost:8080/"
        },
        "outputId": "8739034a-66f5-457e-9e33-38eaed33e4b9"
      },
      "id": "uAxhMnH07rco",
      "execution_count": 2,
      "outputs": [
        {
          "output_type": "stream",
          "name": "stdout",
          "text": [
            "Mounted at /content/drive\n"
          ]
        }
      ]
    },
    {
      "cell_type": "code",
      "source": [
        "from google.colab import files\n",
        "uploaded = files.upload()\n"
      ],
      "metadata": {
        "id": "QiLnn-hV765T",
        "colab": {
          "base_uri": "https://localhost:8080/",
          "height": 73
        },
        "outputId": "0c75747f-9b07-4ee1-8e24-b03412b862c6"
      },
      "id": "QiLnn-hV765T",
      "execution_count": 3,
      "outputs": [
        {
          "output_type": "display_data",
          "data": {
            "text/plain": [
              "<IPython.core.display.HTML object>"
            ],
            "text/html": [
              "\n",
              "     <input type=\"file\" id=\"files-aceb12d8-1cfd-4d3a-b991-a4f1718e8ff9\" name=\"files[]\" multiple disabled\n",
              "        style=\"border:none\" />\n",
              "     <output id=\"result-aceb12d8-1cfd-4d3a-b991-a4f1718e8ff9\">\n",
              "      Upload widget is only available when the cell has been executed in the\n",
              "      current browser session. Please rerun this cell to enable.\n",
              "      </output>\n",
              "      <script>// Copyright 2017 Google LLC\n",
              "//\n",
              "// Licensed under the Apache License, Version 2.0 (the \"License\");\n",
              "// you may not use this file except in compliance with the License.\n",
              "// You may obtain a copy of the License at\n",
              "//\n",
              "//      http://www.apache.org/licenses/LICENSE-2.0\n",
              "//\n",
              "// Unless required by applicable law or agreed to in writing, software\n",
              "// distributed under the License is distributed on an \"AS IS\" BASIS,\n",
              "// WITHOUT WARRANTIES OR CONDITIONS OF ANY KIND, either express or implied.\n",
              "// See the License for the specific language governing permissions and\n",
              "// limitations under the License.\n",
              "\n",
              "/**\n",
              " * @fileoverview Helpers for google.colab Python module.\n",
              " */\n",
              "(function(scope) {\n",
              "function span(text, styleAttributes = {}) {\n",
              "  const element = document.createElement('span');\n",
              "  element.textContent = text;\n",
              "  for (const key of Object.keys(styleAttributes)) {\n",
              "    element.style[key] = styleAttributes[key];\n",
              "  }\n",
              "  return element;\n",
              "}\n",
              "\n",
              "// Max number of bytes which will be uploaded at a time.\n",
              "const MAX_PAYLOAD_SIZE = 100 * 1024;\n",
              "\n",
              "function _uploadFiles(inputId, outputId) {\n",
              "  const steps = uploadFilesStep(inputId, outputId);\n",
              "  const outputElement = document.getElementById(outputId);\n",
              "  // Cache steps on the outputElement to make it available for the next call\n",
              "  // to uploadFilesContinue from Python.\n",
              "  outputElement.steps = steps;\n",
              "\n",
              "  return _uploadFilesContinue(outputId);\n",
              "}\n",
              "\n",
              "// This is roughly an async generator (not supported in the browser yet),\n",
              "// where there are multiple asynchronous steps and the Python side is going\n",
              "// to poll for completion of each step.\n",
              "// This uses a Promise to block the python side on completion of each step,\n",
              "// then passes the result of the previous step as the input to the next step.\n",
              "function _uploadFilesContinue(outputId) {\n",
              "  const outputElement = document.getElementById(outputId);\n",
              "  const steps = outputElement.steps;\n",
              "\n",
              "  const next = steps.next(outputElement.lastPromiseValue);\n",
              "  return Promise.resolve(next.value.promise).then((value) => {\n",
              "    // Cache the last promise value to make it available to the next\n",
              "    // step of the generator.\n",
              "    outputElement.lastPromiseValue = value;\n",
              "    return next.value.response;\n",
              "  });\n",
              "}\n",
              "\n",
              "/**\n",
              " * Generator function which is called between each async step of the upload\n",
              " * process.\n",
              " * @param {string} inputId Element ID of the input file picker element.\n",
              " * @param {string} outputId Element ID of the output display.\n",
              " * @return {!Iterable<!Object>} Iterable of next steps.\n",
              " */\n",
              "function* uploadFilesStep(inputId, outputId) {\n",
              "  const inputElement = document.getElementById(inputId);\n",
              "  inputElement.disabled = false;\n",
              "\n",
              "  const outputElement = document.getElementById(outputId);\n",
              "  outputElement.innerHTML = '';\n",
              "\n",
              "  const pickedPromise = new Promise((resolve) => {\n",
              "    inputElement.addEventListener('change', (e) => {\n",
              "      resolve(e.target.files);\n",
              "    });\n",
              "  });\n",
              "\n",
              "  const cancel = document.createElement('button');\n",
              "  inputElement.parentElement.appendChild(cancel);\n",
              "  cancel.textContent = 'Cancel upload';\n",
              "  const cancelPromise = new Promise((resolve) => {\n",
              "    cancel.onclick = () => {\n",
              "      resolve(null);\n",
              "    };\n",
              "  });\n",
              "\n",
              "  // Wait for the user to pick the files.\n",
              "  const files = yield {\n",
              "    promise: Promise.race([pickedPromise, cancelPromise]),\n",
              "    response: {\n",
              "      action: 'starting',\n",
              "    }\n",
              "  };\n",
              "\n",
              "  cancel.remove();\n",
              "\n",
              "  // Disable the input element since further picks are not allowed.\n",
              "  inputElement.disabled = true;\n",
              "\n",
              "  if (!files) {\n",
              "    return {\n",
              "      response: {\n",
              "        action: 'complete',\n",
              "      }\n",
              "    };\n",
              "  }\n",
              "\n",
              "  for (const file of files) {\n",
              "    const li = document.createElement('li');\n",
              "    li.append(span(file.name, {fontWeight: 'bold'}));\n",
              "    li.append(span(\n",
              "        `(${file.type || 'n/a'}) - ${file.size} bytes, ` +\n",
              "        `last modified: ${\n",
              "            file.lastModifiedDate ? file.lastModifiedDate.toLocaleDateString() :\n",
              "                                    'n/a'} - `));\n",
              "    const percent = span('0% done');\n",
              "    li.appendChild(percent);\n",
              "\n",
              "    outputElement.appendChild(li);\n",
              "\n",
              "    const fileDataPromise = new Promise((resolve) => {\n",
              "      const reader = new FileReader();\n",
              "      reader.onload = (e) => {\n",
              "        resolve(e.target.result);\n",
              "      };\n",
              "      reader.readAsArrayBuffer(file);\n",
              "    });\n",
              "    // Wait for the data to be ready.\n",
              "    let fileData = yield {\n",
              "      promise: fileDataPromise,\n",
              "      response: {\n",
              "        action: 'continue',\n",
              "      }\n",
              "    };\n",
              "\n",
              "    // Use a chunked sending to avoid message size limits. See b/62115660.\n",
              "    let position = 0;\n",
              "    do {\n",
              "      const length = Math.min(fileData.byteLength - position, MAX_PAYLOAD_SIZE);\n",
              "      const chunk = new Uint8Array(fileData, position, length);\n",
              "      position += length;\n",
              "\n",
              "      const base64 = btoa(String.fromCharCode.apply(null, chunk));\n",
              "      yield {\n",
              "        response: {\n",
              "          action: 'append',\n",
              "          file: file.name,\n",
              "          data: base64,\n",
              "        },\n",
              "      };\n",
              "\n",
              "      let percentDone = fileData.byteLength === 0 ?\n",
              "          100 :\n",
              "          Math.round((position / fileData.byteLength) * 100);\n",
              "      percent.textContent = `${percentDone}% done`;\n",
              "\n",
              "    } while (position < fileData.byteLength);\n",
              "  }\n",
              "\n",
              "  // All done.\n",
              "  yield {\n",
              "    response: {\n",
              "      action: 'complete',\n",
              "    }\n",
              "  };\n",
              "}\n",
              "\n",
              "scope.google = scope.google || {};\n",
              "scope.google.colab = scope.google.colab || {};\n",
              "scope.google.colab._files = {\n",
              "  _uploadFiles,\n",
              "  _uploadFilesContinue,\n",
              "};\n",
              "})(self);\n",
              "</script> "
            ]
          },
          "metadata": {}
        },
        {
          "output_type": "stream",
          "name": "stdout",
          "text": [
            "Saving data_logistic.csv to data_logistic.csv\n"
          ]
        }
      ]
    },
    {
      "cell_type": "code",
      "source": [
        "import shutil\n",
        "shutil.move(\"data_logistic.csv\", \"/content/drive/My Drive/data_logistic.csv\")\n"
      ],
      "metadata": {
        "colab": {
          "base_uri": "https://localhost:8080/",
          "height": 36
        },
        "id": "Cbnv41bh-IMo",
        "outputId": "ae3e8bb8-8f8e-4356-bb81-4210a7b094dd"
      },
      "id": "Cbnv41bh-IMo",
      "execution_count": 4,
      "outputs": [
        {
          "output_type": "execute_result",
          "data": {
            "text/plain": [
              "'/content/drive/My Drive/data_logistic.csv'"
            ],
            "application/vnd.google.colaboratory.intrinsic+json": {
              "type": "string"
            }
          },
          "metadata": {},
          "execution_count": 4
        }
      ]
    },
    {
      "cell_type": "markdown",
      "id": "2f795731",
      "metadata": {
        "id": "2f795731"
      },
      "source": [
        "## Reading Data and Preprocessing\n",
        "\n",
        "In this section, we want to read data from a CSV file and then preprocess it to make it ready for the rest of the problem.\n",
        "\n",
        "First, we read the data in the cell below and extract an $m \\times n$ matrix, $X$, and an $m \\times 1$ vector, $Y$, from it, which represent our knowledge about the features of the data (`X1`, `X2`, `X3`) and the class (`Y`), respectively. Note that by $m$, we mean the number of data points and by $n$, we mean the number of features."
      ]
    },
    {
      "cell_type": "code",
      "execution_count": 5,
      "id": "410e750d",
      "metadata": {
        "id": "410e750d",
        "colab": {
          "base_uri": "https://localhost:8080/"
        },
        "outputId": "d69d6d20-2cea-46ea-cb4c-1a67a4f9a678"
      },
      "outputs": [
        {
          "output_type": "stream",
          "name": "stdout",
          "text": [
            "(10000, 3)\n",
            "(10000, 1)\n"
          ]
        }
      ],
      "source": [
        "import pandas as pd\n",
        "\n",
        "# Read data from CSV file\n",
        "data = pd.read_csv(\"/content/drive/My Drive/data_logistic.csv\")\n",
        "\n",
        "# Extract features and target variable\n",
        "X = data[['X1', 'X2', 'X3']].values\n",
        "Y = data['Y'].values.reshape(-1, 1)  # Reshape Y to make it a column vector\n",
        "\n",
        "print(X.shape)\n",
        "print(Y.shape)\n"
      ]
    },
    {
      "cell_type": "markdown",
      "id": "866734e2",
      "metadata": {
        "id": "866734e2"
      },
      "source": [
        "Next, we should normalize our data. For normalizing a vector $\\mathbf{x}$, a very common method is to use this formula:\n",
        "\n",
        "$$\n",
        "\\mathbf{x}_{norm} = \\dfrac{\\mathbf{x} - \\overline{\\mathbf{x}}}{\\sigma_\\mathbf{x}}\n",
        "$$\n",
        "\n",
        "Here, $\\overline{x}$ and $\\sigma_\\mathbf{x}$ denote the mean and standard deviation of vector $\\mathbf{x}$, respectively. Use this formula and store the new $X$ and $Y$ vectors in the cell below.\n",
        "\n",
        "**Question**: Briefly explain why we need to normalize our data before starting the training.\n",
        "\n",
        "**Answer**:"
      ]
    },
    {
      "cell_type": "code",
      "execution_count": 6,
      "id": "9e757eb0",
      "metadata": {
        "id": "9e757eb0",
        "colab": {
          "base_uri": "https://localhost:8080/"
        },
        "outputId": "6d379f60-b619-4387-fd72-410a76be780b"
      },
      "outputs": [
        {
          "output_type": "stream",
          "name": "stdout",
          "text": [
            "(10000, 3)\n",
            "(10000, 1)\n"
          ]
        }
      ],
      "source": [
        "### START CODE HERE ###\n",
        "# Calculate mean and standard deviation for each feature in X\n",
        "mean_X = X.mean(axis=0)\n",
        "std_X = X.std(axis=0)\n",
        "\n",
        "# Normalize X\n",
        "X_norm = (X - mean_X) / std_X\n",
        "\n",
        "# Normalize Y using the same mean and standard deviation of X1\n",
        "Y_norm = (Y - mean_X[0]) / std_X[0]\n",
        "\n",
        "print(X_norm.shape)\n",
        "print(Y_norm.shape)\n",
        "\n",
        "### END CODE HERE ###"
      ]
    },
    {
      "cell_type": "markdown",
      "id": "5465bfa4",
      "metadata": {
        "id": "5465bfa4"
      },
      "source": [
        "Finally, we should add a column of $1$s at the beginning of $X$ to represent the bias term. Do this in the next cell. Note that after this process, $X$ should be an $m \\times (n+1)$ matrix."
      ]
    },
    {
      "cell_type": "code",
      "execution_count": 7,
      "id": "b9a60f1f",
      "metadata": {
        "id": "b9a60f1f",
        "colab": {
          "base_uri": "https://localhost:8080/"
        },
        "outputId": "2dc9646a-a826-462c-d4ed-4e8c58aab0b1"
      },
      "outputs": [
        {
          "output_type": "stream",
          "name": "stdout",
          "text": [
            "(10000, 4)\n"
          ]
        }
      ],
      "source": [
        "### START CODE HERE ###\n",
        "import numpy as np\n",
        "\n",
        "# Add a column of ones to represent the bias term\n",
        "X_with_bias = np.hstack((np.ones((X_norm.shape[0], 1)), X_norm))\n",
        "\n",
        "print(X_with_bias.shape)\n",
        "\n",
        "### END CODE HERE ###\n",
        "\n"
      ]
    },
    {
      "cell_type": "markdown",
      "id": "5cdf0d78",
      "metadata": {
        "id": "5cdf0d78"
      },
      "source": [
        "## Training Model"
      ]
    },
    {
      "cell_type": "markdown",
      "id": "c8714abe",
      "metadata": {
        "id": "c8714abe"
      },
      "source": [
        "### Sigmoid Function\n",
        "You should begin by implementing the $\\sigma(\\mathbf{x})$ function. Recall that the logistic regression hypothesis $\\mathcal{h}()$ is defined as:\n",
        "$$\n",
        "\\mathcal{h}_{\\theta}(\\mathbf{x}) = \\mathcal{g}(\\theta^\\mathbf{T}\\mathbf{x})\n",
        "$$\n",
        "where $\\mathcal{g}()$ is the sigmoid function as:\n",
        "$$\n",
        "\\mathcal{g}(\\mathbf{z}) = \\frac{1}{1+exp^{-\\mathbf{z}}}\n",
        "$$\n",
        "The Sigmoid function has the property that $\\mathbf{g}(+\\infty)\\approx 1$ and $\\mathcal{g}(−\\infty)\\approx0$. Test your function by calling `sigmoid(z)` on different test samples. Be certain that your sigmoid function works with both vectors and matrices - for either a vector or a matrix, your function should perform the sigmoid function on every element."
      ]
    },
    {
      "cell_type": "code",
      "execution_count": 8,
      "id": "6a6b6ae4",
      "metadata": {
        "id": "6a6b6ae4",
        "colab": {
          "base_uri": "https://localhost:8080/"
        },
        "outputId": "f82f3bd9-5686-4538-e5c9-8d1a62166ef9"
      },
      "outputs": [
        {
          "output_type": "stream",
          "name": "stdout",
          "text": [
            "Sigmoid of scalar 0: 0.5\n",
            "Sigmoid of vector [-1  0  1]: [0.26894142 0.5        0.73105858]\n",
            "Sigmoid of matrix:\n",
            " [[0.26894142 0.5        0.73105858]\n",
            " [0.11920292 0.26894142 0.5       ]]\n"
          ]
        }
      ],
      "source": [
        "import numpy as np\n",
        "\n",
        "def sigmoid(z):\n",
        "    \"\"\"\n",
        "    Compute the sigmoid function for the input z.\n",
        "\n",
        "    Arguments:\n",
        "    z -- A scalar or numpy array of any size.\n",
        "\n",
        "    Return:\n",
        "    s -- sigmoid(z)\n",
        "    \"\"\"\n",
        "    s = 1 / (1 + np.exp(-z))\n",
        "    return s\n",
        "\n",
        "# Test the sigmoid function with different test samples\n",
        "test_scalar = 0\n",
        "test_vector = np.array([-1, 0, 1])\n",
        "test_matrix = np.array([[-1, 0, 1], [-2, -1, 0]])\n",
        "\n",
        "print(\"Sigmoid of scalar {}: {}\".format(test_scalar, sigmoid(test_scalar)))\n",
        "print(\"Sigmoid of vector {}: {}\".format(test_vector, sigmoid(test_vector)))\n",
        "print(\"Sigmoid of matrix:\\n\", sigmoid(test_matrix))\n"
      ]
    },
    {
      "cell_type": "markdown",
      "id": "83846074",
      "metadata": {
        "id": "83846074"
      },
      "source": [
        "### Cost Function\n",
        "Implement the functions to compute the cost function. Recall the cost function for logistic regression is a scalar value given by:\n",
        "$$\n",
        "\\mathcal{J}(\\theta) = \\sum_{i=1}^{n}[-y^{(i)}\\log{(\\mathcal{h}_\\theta(\\mathbf{x}^{(i)}))}-(1-y^{(i)})\\log{(1-\\mathcal{h}_\\theta(\\mathbf{x}^{(i)}))}] + \\frac{\\lambda}{2}||\\theta||_2^2\n",
        "$$"
      ]
    },
    {
      "cell_type": "code",
      "execution_count": 26,
      "id": "26a9bdeb",
      "metadata": {
        "id": "26a9bdeb"
      },
      "outputs": [],
      "source": [
        "def computeCost(theta, X, y, regLambda):\n",
        "    '''\n",
        "    Computes the objective function\n",
        "    Arguments:\n",
        "        theta is d-dimensional numpy vector\n",
        "        X is a n-by-d numpy matrix\n",
        "        y is an n-dimensional numpy vector\n",
        "        regLambda is the scalar regularization constant\n",
        "    Returns:\n",
        "        a scalar value of the cost  ** make certain you're not returning a 1 x 1 matrix! **\n",
        "    '''\n",
        "\n",
        "    m, n = X.shape\n",
        "    loss = None\n",
        "    h = sigmoid(np.dot(X, theta))\n",
        "\n",
        "    # Exclude instances where h is exactly 0 or 1\n",
        "    h = np.clip(h, 1e-15, 1 - 1e-15)\n",
        "\n",
        "    # Compute loss\n",
        "    regularizer = (regLambda / (2 * m)) * np.sum(theta[1:] ** 2)  # Exclude bias term\n",
        "    loss = -(1 / m) * (np.dot(y.T, np.log(h)) + np.dot((1 - y).T, np.log(1 - h))) + regularizer\n",
        "\n",
        "    return loss\n"
      ]
    },
    {
      "cell_type": "markdown",
      "id": "6eaf1146",
      "metadata": {
        "id": "6eaf1146"
      },
      "source": [
        "### Gradient of the Cost Function\n",
        "Now, we want to calculate the gradient of the cost function. The gradient of the cost function is a d-dimensional vector.\\\n",
        "We must be careful not to regularize the $\\theta_0$ parameter (corresponding to the first feature we add to each instance), and so the 0's element is given by:\n",
        "$$\n",
        "\\frac{\\partial \\mathcal{J}(\\theta)}{\\partial \\theta_0} = \\sum_{i=1}^n (\\mathcal{h}_\\theta(\\mathbf{x}^{(i)})-y^{(i)})\n",
        "$$\n",
        "\n",
        "Question: What is the answer to this problem for the $j^{th}$ element (for $j=1...d$)?\n",
        "\n",
        "Answer:\n",
        "For the $ j^{th} $ element of the gradient of the cost function $ ( \\frac{\\partial \\mathcal{J}(\\theta)}{\\partial \\theta_j} $ for $( j = 1, ..., d ))$, where $ d $ is the number of features, the formula is:\n",
        "\n",
        "$$\n",
        "\\frac{\\partial \\mathcal{J}(\\theta)}{\\partial \\theta_j} = \\sum_{i=1}^m (\\mathcal{h}_\\theta(\\mathbf{x}^{(i)}) - y^{(i)}) \\cdot x_j^{(i)}\n",
        "$$\n",
        "\n",
        "This expression represents the partial derivative of the cost function with respect to the $j^{th}$ parameter$ \\theta_j $. Here's a breakdown of the terms:\n",
        "\n",
        "- $ m $ is the number of training examples.\n",
        "- $ \\mathcal{h}_\\theta(\\mathbf{x}^{(i)}) $ is the hypothesis function for the $ i^{th} $ training example.\n",
        "- $ y^{(i)} $ is the actual label for the $ i^{th} $ training example.\n",
        "- $ x_j^{(i)} $ is the $ j^{th} $ feature value for the $ i^{th} $ training example.\n",
        "\n",
        "This formula calculates the error between the predicted and actual values for each training example, weighted by the corresponding feature value, and sums them up across all training examples. This represents the contribution of the $ j^{th} $ feature to the overall error, which is then used to update the corresponding parameter $ \\theta_j $ during gradient descent.\n",
        "\n",
        "\n"
      ]
    },
    {
      "cell_type": "code",
      "execution_count": 10,
      "id": "35f7c2dd",
      "metadata": {
        "id": "35f7c2dd"
      },
      "outputs": [],
      "source": [
        "def computeGradient(theta, X, y, regLambda):\n",
        "    '''\n",
        "    Computes the gradient of the objective function\n",
        "    Arguments:\n",
        "        theta is d-dimensional numpy vector\n",
        "        X is a n-by-d numpy matrix\n",
        "        y is an n-dimensional numpy vector\n",
        "        regLambda is the scalar regularization constant\n",
        "    Returns:\n",
        "        the gradient, an d-dimensional vector\n",
        "    '''\n",
        "\n",
        "    m, n = X.shape\n",
        "    h = sigmoid(np.dot(X, theta))\n",
        "    error = h - y\n",
        "    regularizer = (regLambda / m) * theta\n",
        "    regularizer[0] = 0  # Exclude regularization for bias term (theta_0)\n",
        "\n",
        "    grad = (1 / m) * np.dot(X.T, error) + regularizer\n",
        "\n",
        "    return grad\n"
      ]
    },
    {
      "cell_type": "markdown",
      "id": "24bc86bd",
      "metadata": {
        "id": "24bc86bd"
      },
      "source": [
        "### Training and Prediction\n",
        "Once you have the cost and gradient functions complete, implemen tthe fit and predict methods.\\\n",
        "Your fit method should train the model via gradient descent, relying on the cost and gradient functions. This function should return two parameters. The first parameter is $\\theta$, and the second parameter is a `numpy` array that contains the loss in each iteration. This array is indicated by `loss_history` in the code.\\\n",
        "Instead of simply running gradient descent for a specific number of iterations, we will use a more sophisticated method: we will stop it after the solution hasconverged. Stop the gradient descent procedure when $\\theta$ stops changing between consecutive iterations. You can detect this convergence when:\n",
        "$$\n",
        "||\\theta_{new}-\\theta_{old}||_2 <= \\epsilon,\n",
        "$$\n",
        "for some small $\\epsilon$ (e.g, $\\epsilon=10E-4$).\\\n",
        "For readability, we’d recommend implementing this convergence test as a dedicated function `hasConverged`."
      ]
    },
    {
      "cell_type": "code",
      "execution_count": 24,
      "id": "cc0cad78",
      "metadata": {
        "id": "cc0cad78"
      },
      "outputs": [],
      "source": [
        "def fit(X, y, regLambda=0.01, alpha=0.01, epsilon=1e-4, maxNumIters=100):\n",
        "    '''\n",
        "    Trains the model\n",
        "    Arguments:\n",
        "        X           is a n-by-d numpy matrix\n",
        "        y           is an n-dimensional numpy vector\n",
        "        maxNumIters is the maximum number of gradient descent iterations\n",
        "        regLambda   is the scalar regularization constant\n",
        "        epsilon     is the convergence rate\n",
        "        alpha       is the gradient descent learning rate\n",
        "    '''\n",
        "\n",
        "    m, n = X.shape\n",
        "    theta = np.zeros((n, 1))\n",
        "    loss_history = []\n",
        "\n",
        "    for _ in range(maxNumIters):\n",
        "        # Calculate gradient\n",
        "        gradient = computeGradient(theta, X, y, regLambda)\n",
        "\n",
        "        # Update theta\n",
        "        theta -= alpha * gradient\n",
        "\n",
        "        # Calculate loss\n",
        "        loss = computeCost(theta, X, y, regLambda)\n",
        "        loss_history.append(loss)\n",
        "\n",
        "        # Check convergence\n",
        "        theta_new = theta - alpha * gradient\n",
        "        if hasConverged(theta, theta_new, epsilon):\n",
        "            break\n",
        "\n",
        "        theta = theta_new\n",
        "\n",
        "    return theta, np.array(loss_history)\n",
        "\n",
        "def hasConverged(theta_old, theta_new, epsilon):\n",
        "    '''\n",
        "    Return if the theta converged or not\n",
        "    Arguments:\n",
        "        theta_old   is the theta calculated in previous iteration\n",
        "        theta_new   is the theta calculated in current iteration\n",
        "        epsilon     is the convergence rate\n",
        "    '''\n",
        "    return np.linalg.norm(theta_old - theta_new) <= epsilon\n"
      ]
    },
    {
      "cell_type": "markdown",
      "id": "bb648852",
      "metadata": {
        "id": "bb648852"
      },
      "source": [
        "Finally, we want to evaluate our loss for this problem. Complete the cell below to calculate and print the loss of each iteration and the final theta of your model."
      ]
    },
    {
      "cell_type": "code",
      "execution_count": 12,
      "id": "252e556f",
      "metadata": {
        "id": "252e556f",
        "colab": {
          "base_uri": "https://localhost:8080/"
        },
        "outputId": "5a46fa82-50a6-4b15-c5f9-2ab7b7ea6261"
      },
      "outputs": [
        {
          "output_type": "stream",
          "name": "stdout",
          "text": [
            "Iteration 1: Loss = 0.6915\n",
            "Iteration 2: Loss = 0.6898\n",
            "Iteration 3: Loss = 0.6882\n",
            "Iteration 4: Loss = 0.6866\n",
            "Iteration 5: Loss = 0.6849\n",
            "Iteration 6: Loss = 0.6833\n",
            "Iteration 7: Loss = 0.6817\n",
            "Iteration 8: Loss = 0.6801\n",
            "Iteration 9: Loss = 0.6785\n",
            "Iteration 10: Loss = 0.6769\n",
            "Iteration 11: Loss = 0.6753\n",
            "Iteration 12: Loss = 0.6738\n",
            "Iteration 13: Loss = 0.6722\n",
            "Iteration 14: Loss = 0.6706\n",
            "Iteration 15: Loss = 0.6691\n",
            "Iteration 16: Loss = 0.6676\n",
            "Iteration 17: Loss = 0.6660\n",
            "Iteration 18: Loss = 0.6645\n",
            "Iteration 19: Loss = 0.6630\n",
            "Iteration 20: Loss = 0.6615\n",
            "Iteration 21: Loss = 0.6600\n",
            "Iteration 22: Loss = 0.6585\n",
            "Iteration 23: Loss = 0.6570\n",
            "Iteration 24: Loss = 0.6555\n",
            "Iteration 25: Loss = 0.6541\n",
            "Iteration 26: Loss = 0.6526\n",
            "Iteration 27: Loss = 0.6511\n",
            "Iteration 28: Loss = 0.6497\n",
            "Iteration 29: Loss = 0.6482\n",
            "Iteration 30: Loss = 0.6468\n",
            "Iteration 31: Loss = 0.6454\n",
            "Iteration 32: Loss = 0.6440\n",
            "Iteration 33: Loss = 0.6425\n",
            "Iteration 34: Loss = 0.6411\n",
            "Iteration 35: Loss = 0.6397\n",
            "Iteration 36: Loss = 0.6383\n",
            "Iteration 37: Loss = 0.6370\n",
            "Iteration 38: Loss = 0.6356\n",
            "Iteration 39: Loss = 0.6342\n",
            "Iteration 40: Loss = 0.6328\n",
            "Iteration 41: Loss = 0.6315\n",
            "Iteration 42: Loss = 0.6301\n",
            "Iteration 43: Loss = 0.6288\n",
            "Iteration 44: Loss = 0.6275\n",
            "Iteration 45: Loss = 0.6261\n",
            "Iteration 46: Loss = 0.6248\n",
            "Iteration 47: Loss = 0.6235\n",
            "Iteration 48: Loss = 0.6222\n",
            "Iteration 49: Loss = 0.6209\n",
            "Iteration 50: Loss = 0.6196\n",
            "Iteration 51: Loss = 0.6183\n",
            "Iteration 52: Loss = 0.6170\n",
            "Iteration 53: Loss = 0.6157\n",
            "Iteration 54: Loss = 0.6144\n",
            "Iteration 55: Loss = 0.6132\n",
            "Iteration 56: Loss = 0.6119\n",
            "Iteration 57: Loss = 0.6106\n",
            "Iteration 58: Loss = 0.6094\n",
            "Iteration 59: Loss = 0.6082\n",
            "Iteration 60: Loss = 0.6069\n",
            "Iteration 61: Loss = 0.6057\n",
            "Iteration 62: Loss = 0.6045\n",
            "Iteration 63: Loss = 0.6032\n",
            "Iteration 64: Loss = 0.6020\n",
            "Iteration 65: Loss = 0.6008\n",
            "Iteration 66: Loss = 0.5996\n",
            "Iteration 67: Loss = 0.5984\n",
            "Iteration 68: Loss = 0.5972\n",
            "Iteration 69: Loss = 0.5961\n",
            "Iteration 70: Loss = 0.5949\n",
            "Iteration 71: Loss = 0.5937\n",
            "Iteration 72: Loss = 0.5925\n",
            "Iteration 73: Loss = 0.5914\n",
            "Iteration 74: Loss = 0.5902\n",
            "Iteration 75: Loss = 0.5891\n",
            "Iteration 76: Loss = 0.5879\n",
            "Iteration 77: Loss = 0.5868\n",
            "Iteration 78: Loss = 0.5857\n",
            "Iteration 79: Loss = 0.5845\n",
            "Iteration 80: Loss = 0.5834\n",
            "Iteration 81: Loss = 0.5823\n",
            "Iteration 82: Loss = 0.5812\n",
            "Iteration 83: Loss = 0.5801\n",
            "Iteration 84: Loss = 0.5790\n",
            "Iteration 85: Loss = 0.5779\n",
            "Iteration 86: Loss = 0.5768\n",
            "Iteration 87: Loss = 0.5757\n",
            "Iteration 88: Loss = 0.5746\n",
            "Iteration 89: Loss = 0.5735\n",
            "Iteration 90: Loss = 0.5725\n",
            "Iteration 91: Loss = 0.5714\n",
            "Iteration 92: Loss = 0.5703\n",
            "Iteration 93: Loss = 0.5693\n",
            "Iteration 94: Loss = 0.5682\n",
            "Iteration 95: Loss = 0.5672\n",
            "Iteration 96: Loss = 0.5662\n",
            "Iteration 97: Loss = 0.5651\n",
            "Iteration 98: Loss = 0.5641\n",
            "Iteration 99: Loss = 0.5631\n",
            "Iteration 100: Loss = 0.5620\n",
            "\n",
            "Final Theta:\n",
            "[[ 0.14721272]\n",
            " [-0.21750811]\n",
            " [ 0.23679233]\n",
            " [ 0.07455652]]\n"
          ]
        }
      ],
      "source": [
        "# Assuming X, Y, regLambda, alpha, epsilon, and maxNumIters are defined earlier\n",
        "\n",
        "# Fit the model\n",
        "theta, loss_history = fit(X_with_bias, Y, regLambda=0.01, alpha=0.01, epsilon=1e-4, maxNumIters=100)\n",
        "\n",
        "# Print loss for each iteration\n",
        "for i, loss in enumerate(loss_history):\n",
        "    print(\"Iteration {}: Loss = {:.4f}\".format(i+1, loss))\n",
        "\n",
        "# Print final theta\n",
        "print(\"\\nFinal Theta:\")\n",
        "print(theta)\n"
      ]
    },
    {
      "cell_type": "markdown",
      "id": "f4b3fab6",
      "metadata": {
        "id": "f4b3fab6"
      },
      "source": [
        "### Testing Your Implementation\n",
        "To test your logistic regression implementation, first you should use `train_test_split` function to split dataset into three parts:\n",
        "\n",
        "- 70% for the training set\n",
        "- 20% for the validation set\n",
        "- 10% for the test set\n",
        "\n",
        "Do this in the cell below."
      ]
    },
    {
      "cell_type": "code",
      "execution_count": 13,
      "id": "4518fe11",
      "metadata": {
        "id": "4518fe11",
        "colab": {
          "base_uri": "https://localhost:8080/"
        },
        "outputId": "1c1cb039-11f6-4f69-f99d-1c579d83fe74"
      },
      "outputs": [
        {
          "output_type": "stream",
          "name": "stdout",
          "text": [
            "Training set shape: (7000, 3)\n",
            "Validation set shape: (2010, 3)\n",
            "Test set shape: (990, 3)\n"
          ]
        }
      ],
      "source": [
        "from sklearn.model_selection import train_test_split\n",
        "\n",
        "# Split the dataset into training (70%), validation (20%), and test (10%) sets\n",
        "X_train, X_temp, Y_train, Y_temp = train_test_split(X, Y, test_size=0.3, random_state=42)\n",
        "X_val, X_test, Y_val, Y_test = train_test_split(X_temp, Y_temp, test_size=0.33, random_state=42)\n",
        "\n",
        "print(\"Training set shape:\", X_train.shape)\n",
        "print(\"Validation set shape:\", X_val.shape)\n",
        "print(\"Test set shape:\", X_test.shape)\n"
      ]
    },
    {
      "cell_type": "markdown",
      "id": "f9fbe5d7",
      "metadata": {
        "id": "f9fbe5d7"
      },
      "source": [
        "Then, you should complete `predict` function to find the weight vector and the loss on the test data."
      ]
    },
    {
      "cell_type": "code",
      "execution_count": 14,
      "id": "95c2fe20",
      "metadata": {
        "id": "95c2fe20"
      },
      "outputs": [],
      "source": [
        "def predict(X, theta):\n",
        "    '''\n",
        "    Use the model to predict values for each instance in X\n",
        "    Arguments:\n",
        "        theta is d-dimensional numpy vector\n",
        "        X     is a n-by-d numpy matrix\n",
        "    Returns:\n",
        "        an n-dimensional numpy vector of the predictions, the output should be binary (use h_theta > .5)\n",
        "    '''\n",
        "\n",
        "    # Compute the predicted probabilities\n",
        "    probabilities = sigmoid(np.dot(X, theta))\n",
        "\n",
        "    # Convert probabilities to binary predictions\n",
        "    Y = (probabilities > 0.5).astype(int)\n",
        "\n",
        "    return Y\n"
      ]
    },
    {
      "cell_type": "markdown",
      "id": "246d1c02",
      "metadata": {
        "id": "246d1c02"
      },
      "source": [
        "Now, run the `fit` and `predict` function for different values of the learning rate and regularization constant. Plot the `loss_history` of these different values for train and test data both in the same figure.\n",
        "\n",
        "**Question**: Discuss the effect of the learning rate and regularization constant and find the best values of these parameters.\n",
        "\n",
        "**Answer**:\n",
        "The learning rate and regularization constant are crucial hyperparameters in training machine learning models like logistic regression. Here's how they affect the training process:\n",
        "\n",
        "1. **Learning Rate**:\n",
        "   - The learning rate controls the size of the steps taken during gradient descent. A larger learning rate means larger steps, which can lead to faster convergence but may overshoot the minimum of the loss function. Conversely, a smaller learning rate results in smaller steps, which may converge more slowly but with more precision.\n",
        "   - If the learning rate is too small, the algorithm may converge very slowly, requiring many iterations to reach the minimum loss. On the other hand, if the learning rate is too large, the algorithm may fail to converge, oscillating around the minimum or even diverging.\n",
        "   - Generally, it's a good practice to start with a moderate learning rate and adjust it based on the observed convergence behavior. Techniques like learning rate schedules or adaptive learning rate methods (e.g., Adam, RMSProp) can also be used to dynamically adjust the learning rate during training.\n",
        "\n",
        "2. **Regularization Constant**:\n",
        "   - The regularization constant (also known as lambda or alpha) controls the amount of regularization applied to the model. Regularization helps prevent overfitting by penalizing large coefficients in the model.\n",
        "   - A smaller regularization constant means less regularization, allowing the model to fit the training data more closely. However, this may lead to overfitting, especially if the training data is noisy or contains outliers.\n",
        "   - Conversely, a larger regularization constant increases the regularization penalty, forcing the model to learn simpler patterns and reducing the risk of overfitting. However, excessive regularization may lead to underfitting, where the model is too simple to capture the underlying patterns in the data.\n",
        "   - Cross-validation or grid search techniques can be used to find the optimal value of the regularization constant by evaluating the model's performance on a validation set.\n",
        "\n",
        "To find the best values for these parameters:\n",
        "- Experiment with different values of the learning rate and regularization constant.\n",
        "- Monitor the convergence behavior and performance of the model on both the training and validation/test sets.\n",
        "- Choose the values that result in the fastest convergence with the lowest loss on the validation/test set, balancing between underfitting and overfitting.\n",
        "\n",
        "It's important to note that the optimal values of the learning rate and regularization constant may vary depending on the specific dataset and problem at hand. Therefore, it's often necessary to perform hyperparameter tuning to find the best combination for each scenario."
      ]
    },
    {
      "cell_type": "code",
      "execution_count": 28,
      "id": "cd2af382",
      "metadata": {
        "id": "cd2af382",
        "colab": {
          "base_uri": "https://localhost:8080/",
          "height": 628
        },
        "outputId": "94d0a49d-d4c4-4e88-bc24-637f7c071e6d"
      },
      "outputs": [
        {
          "output_type": "stream",
          "name": "stdout",
          "text": [
            "Training model with LR=0.01, RegLambda=0.01\n",
            "Training model with LR=0.01, RegLambda=0.1\n",
            "Training model with LR=0.01, RegLambda=1\n",
            "Training model with LR=0.1, RegLambda=0.01\n",
            "Training model with LR=0.1, RegLambda=0.1\n",
            "Training model with LR=0.1, RegLambda=1\n",
            "Training model with LR=1, RegLambda=0.01\n",
            "Training model with LR=1, RegLambda=0.1\n",
            "Training model with LR=1, RegLambda=1\n"
          ]
        },
        {
          "output_type": "display_data",
          "data": {
            "text/plain": [
              "<Figure size 640x480 with 1 Axes>"
            ],
            "image/png": "[encoded data removed]"
          },
          "metadata": {}
        }
      ],
      "source": [
        "import numpy as np\n",
        "import matplotlib.pyplot as plt\n",
        "\n",
        "def sigmoid(z):\n",
        "    \"\"\"\n",
        "    Compute the sigmoid function with a small constant added to prevent division by zero\n",
        "    \"\"\"\n",
        "    # Clip input to avoid overflow or underflow\n",
        "    z = np.clip(z, -500, 500)\n",
        "    # Compute sigmoid with a small constant added\n",
        "    return 1 / (1 + np.exp(-z + 1e-6))\n",
        "\n",
        "# Define a range of values for the learning rate and regularization constant\n",
        "learning_rates = [0.01, 0.1, 1]\n",
        "reg_lambdas = [0.01, 0.1, 1]\n",
        "\n",
        "# Iterate over all combinations of learning rate and regularization constant\n",
        "for lr in learning_rates:\n",
        "    for reg_lambda in reg_lambdas:\n",
        "        print(f\"Training model with LR={lr}, RegLambda={reg_lambda}\")\n",
        "\n",
        "        # Train the model using the fit function\n",
        "        theta, loss_history = fit(X_train, Y_train, regLambda=reg_lambda, alpha=lr)\n",
        "\n",
        "        # Plot loss history\n",
        "        # Plot loss history\n",
        "        plt.plot(loss_history.flatten(), label=f\"LR={lr}, RegLambda={reg_lambda}\")\n",
        "\n",
        "\n",
        "# Add labels and legend\n",
        "plt.xlabel('Iteration')\n",
        "plt.ylabel('Loss')\n",
        "plt.title('Loss History for Different Learning Rates and Regularization Constants')\n",
        "plt.legend()\n",
        "plt.show()\n"
      ]
    },
    {
      "cell_type": "markdown",
      "id": "11babf15",
      "metadata": {
        "id": "11babf15"
      },
      "source": [
        "## Naive Bayes\n",
        "\n",
        "In this part, you will use the `GaussianNB` classifier to classify the data. You should not change the default parameters of this classifier. First, train the classifier on the training set and then find the accuracy of it on the test set.\n",
        "\n",
        "**Question**: What is the accuracy of this method on test set?\n",
        "\n",
        "**Answer**:\n"
      ]
    },
    {
      "cell_type": "code",
      "execution_count": 30,
      "id": "1ef450fb",
      "metadata": {
        "id": "1ef450fb",
        "colab": {
          "base_uri": "https://localhost:8080/"
        },
        "outputId": "61d31a67-d313-44fc-f566-fb9440402cac"
      },
      "outputs": [
        {
          "output_type": "stream",
          "name": "stdout",
          "text": [
            "Accuracy of Gaussian Naive Bayes: 0.9282828282828283\n"
          ]
        }
      ],
      "source": [
        "from sklearn.naive_bayes import GaussianNB\n",
        "\n",
        "# Train the classifier on the training set\n",
        "gnb = GaussianNB()\n",
        "gnb.fit(X_train, Y_train.ravel())\n",
        "\n",
        "# Predict the labels for the test set\n",
        "y_pred = gnb.predict(X_test)\n",
        "\n",
        "# Calculate the accuracy\n",
        "accuracy = np.mean(y_pred == Y_test.ravel())\n",
        "print(\"Accuracy of Gaussian Naive Bayes:\", accuracy)\n"
      ]
    },
    {
      "cell_type": "markdown",
      "id": "b371657d",
      "metadata": {
        "id": "b371657d"
      },
      "source": [
        "## LDA (Linear Discriminant Analysis)\n",
        "\n",
        "In this part, you will use the `LinearDiscriminantAnalysis` classifier to classify the data. You should not change the default parameters of this classifier. First, train the classifier on the training set and then find the accuracy of it on the test set.\n",
        "\n",
        "**Question**: What is the accuracy of this method on test set?\n",
        "\n",
        "**Answer**:"
      ]
    },
    {
      "cell_type": "code",
      "execution_count": 31,
      "id": "92cc8743",
      "metadata": {
        "id": "92cc8743",
        "colab": {
          "base_uri": "https://localhost:8080/"
        },
        "outputId": "96be843b-2e6e-4218-e6c2-68d81b64b619"
      },
      "outputs": [
        {
          "output_type": "stream",
          "name": "stdout",
          "text": [
            "Accuracy of Linear Discriminant Analysis: 0.9848484848484849\n"
          ]
        }
      ],
      "source": [
        "from sklearn.discriminant_analysis import LinearDiscriminantAnalysis\n",
        "\n",
        "# Flatten the target vectors\n",
        "Y_train = Y_train.ravel()\n",
        "Y_test = Y_test.ravel()\n",
        "\n",
        "# Train the classifier on the training set\n",
        "lda = LinearDiscriminantAnalysis()\n",
        "lda.fit(X_train, Y_train)\n",
        "\n",
        "# Predict the labels for the test set\n",
        "y_pred_lda = lda.predict(X_test)\n",
        "\n",
        "# Calculate the accuracy\n",
        "accuracy_lda = np.mean(y_pred_lda == Y_test)\n",
        "print(\"Accuracy of Linear Discriminant Analysis:\", accuracy_lda)\n"
      ]
    },
    {
      "cell_type": "markdown",
      "id": "47736bdf",
      "metadata": {
        "id": "47736bdf"
      },
      "source": [
        "## Conclution\n",
        "\n",
        "**Question**: What is the best method for classifying this dataset? What is the best accuracy on the test set?\n",
        "\n",
        "**Answer**:\n",
        "Based on the accuracies obtained on the test set:\n",
        "\n",
        "1. **Gaussian Naive Bayes**: Accuracy ≈ 0.928\n",
        "2. **Linear Discriminant Analysis (LDA)**: Accuracy ≈ 0.985\n",
        "\n",
        "The best method for classifying this dataset appears to be Linear Discriminant Analysis (LDA), as it achieved a higher accuracy of approximately 98.5% on the test set compared to Gaussian Naive Bayes.\n",
        "\n",
        "Therefore, the best accuracy on the test set is achieved by Linear Discriminant Analysis (LDA), with an accuracy of approximately 98.5%. LDA is more effective for this particular dataset in distinguishing between the classes and making accurate predictions."
      ]
    },
    {
      "cell_type": "markdown",
      "source": [],
      "metadata": {
        "id": "x1N3rzlBvb-n"
      },
      "id": "x1N3rzlBvb-n"
    }
  ],
  "metadata": {
    "kernelspec": {
      "display_name": "Python 3 (ipykernel)",
      "language": "python",
      "name": "python3"
    },
    "language_info": {
      "codemirror_mode": {
        "name": "ipython",
        "version": 3
      },
      "file_extension": ".py",
      "mimetype": "text/x-python",
      "name": "python",
      "nbconvert_exporter": "python",
      "pygments_lexer": "ipython3",
      "version": "3.9.12"
    },
    "colab": {
      "provenance": []
    }
  },
  "nbformat": 4,
  "nbformat_minor": 5
}